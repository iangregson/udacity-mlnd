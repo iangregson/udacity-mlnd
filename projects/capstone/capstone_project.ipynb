{
 "cells": [
  {
   "cell_type": "markdown",
   "metadata": {},
   "source": [
    "# Machine Learning Engineer Nanodegree\n",
    "## Capstone Project\n",
    "Ian Gregson\n",
    "September 22nd 2018"
   ]
  },
  {
   "cell_type": "markdown",
   "metadata": {},
   "source": [
    "# 1. Definition"
   ]
  },
  {
   "cell_type": "markdown",
   "metadata": {},
   "source": [
    "### Project Overview"
   ]
  },
  {
   "cell_type": "markdown",
   "metadata": {},
   "source": [
    "In this section, look to provide a high-level overview of the project in layman’s terms. Questions to ask yourself when writing this section:\n",
    "- _Has an overview of the project been provided, such as the problem domain, project origin, and related datasets or input data?_\n",
    "- _Has enough background information been given so that an uninformed reader would understand the problem domain and following problem statement?_\n"
   ]
  },
  {
   "cell_type": "markdown",
   "metadata": {},
   "source": [
    "The domain background for this project is that it comes directly from my work for a startup that is building a customer data platform that helps users maximize their account based recurring revenue. In this field, BizOps profressional leverage large quantities of data from multiple sources such as CRMs or customer engagement analytics tools. The platform we build collates thiss data to provide a single view of an account (a non trivial problem in this space) but much of the insights that are gleaned from this large quantity of data come from the judgements of BizOps professionals studying the data.\n",
    "\n",
    "The project seeks to take steps into a new way of deriving insights from this large suite of structured data. By automating some aspects of the data analysis with machine learning models will free up the professionals to apply their extensive domain expertise in solving new problems.\n",
    "\n",
    "I have a personal motivation in undertaking this project because I want to help push my team to become leaders in our field."
   ]
  },
  {
   "cell_type": "markdown",
   "metadata": {},
   "source": [
    "### Problem Statement"
   ]
  },
  {
   "cell_type": "markdown",
   "metadata": {},
   "source": [
    "In this section, you will want to clearly define the problem that you are trying to solve, including the strategy (outline of tasks) you will use to achieve the desired solution. You should also thoroughly discuss what the intended solution will be for this problem. Questions to ask yourself when writing this section:\n",
    "- _Is the problem statement clearly defined? Will the reader understand what you are expecting to solve?_\n",
    "- _Have you thoroughly discussed how you will attempt to solve the problem?_\n",
    "- _Is an anticipated solution clearly defined? Will the reader understand what results you are looking for?_\n"
   ]
  },
  {
   "cell_type": "markdown",
   "metadata": {},
   "source": [
    "The problem to be solved in this project is the problem of opportunity scoring. There is historical data that shows which opportunities eventually convert to become accounts with annually recurring revenue. BizOps practitioners will use this historical data to make judgements on what active oppoortunities are most likely to convert by comparing their features with the features of examples from the historical data.\n",
    "\n",
    "This project seeks to build a machine learning model that will make these judgements.\n",
    "\n",
    "To build that model, this project will work through the following steps:\n",
    "\n",
    "* Establish and prepare evaluation metrics\n",
    "* Explore the dataset and establish necessary pre-processing steps\n",
    "* Establish a benchmark using a dummy classifier\n",
    "* Carry out pre-processing of the dataset\n",
    "* Implement a number of models using grid search to establish the best hyperparameters\n",
    "* Train and validate the models on the dataset\n",
    "* Refine the model that looks to have the best performance\n",
    "* Evaluate the performance of the model on the dataset against the benchmark and establish whether or not the model is viable for further use\n",
    "\n",
    "The model will be deemed acceptable for furhter use if the predictions it makes are better than those returned by the dummy classifier.\n"
   ]
  },
  {
   "cell_type": "markdown",
   "metadata": {},
   "source": [
    "### Metrics"
   ]
  },
  {
   "cell_type": "markdown",
   "metadata": {},
   "source": [
    "In this section, you will need to clearly define the metrics or calculations you will use to measure performance of a model or result in your project. These calculations and metrics should be justified based on the characteristics of the problem and problem domain. Questions to ask yourself when writing this section:\n",
    "- _Are the metrics you’ve chosen to measure the performance of your models clearly discussed and defined?_\n",
    "- _Have you provided reasonable justification for the metrics chosen based on the problem and solution?_\n"
   ]
  },
  {
   "cell_type": "markdown",
   "metadata": {},
   "source": [
    "Since this project aims to solve a classification problem, I expect the F1 Score metric will provide suitable evaluation of the performance of the benchmark and solution models.\n",
    "\n",
    "The F1 Score will provide a numeric means of judging the performance that can help more definiteively assess the performance of final model and ascertain whether or not it can be used further for opportunity scoring. The F1 Score metric should help give a good balance between _recall_ and _precision_ since it is unlikely the dataset will have an equal of number of samples in each of the two classes."
   ]
  },
  {
   "cell_type": "markdown",
   "metadata": {},
   "source": [
    "## 2. Analysis"
   ]
  },
  {
   "cell_type": "markdown",
   "metadata": {},
   "source": [
    "### Data Exploration"
   ]
  },
  {
   "cell_type": "markdown",
   "metadata": {},
   "source": [
    "In this section, you will be expected to analyze the data you are using for the problem. This data can either be in the form of a dataset (or datasets), input data (or input files), or even an environment. The type of data should be thoroughly described and, if possible, have basic statistics and information presented (such as discussion of input features or defining characteristics about the input or environment). Any abnormalities or interesting qualities about the data that may need to be addressed have been identified (such as features that need to be transformed or the possibility of outliers). Questions to ask yourself when writing this section:\n",
    "- _If a dataset is present for this problem, have you thoroughly discussed certain features about the dataset? Has a data sample been provided to the reader?_\n",
    "- _If a dataset is present for this problem, are statistics about the dataset calculated and reported? Have any relevant results from this calculation been discussed?_\n",
    "- _If a dataset is **not** present for this problem, has discussion been made about the input space or input data for your problem?_\n",
    "- _Are there any abnormalities or characteristics about the input space or dataset that need to be addressed? (categorical variables, missing values, outliers, etc.)_\n",
    "\n"
   ]
  },
  {
   "cell_type": "code",
   "execution_count": 1,
   "metadata": {},
   "outputs": [
    {
     "name": "stdout",
     "output_type": "stream",
     "text": [
      "/usr/local/bin:/Users/iangregson/google-cloud-sdk/bin:/Users/iangregson/.nvm/versions/node/v10.4.1/bin:/usr/local/bin:/Users/iangregson/.cargo/bin:/Library/Frameworks/Python.framework/Versions/3.4/bin:/usr/local/bin:/usr/bin:/bin:/usr/sbin:/sbin:/Users/iangregson/PostgreSQL/pg95/bin:/Users/iangregson/Rekener/app/common/bin:/Applications/DevDesktop/tools:/Users/iangregson/go/bin:/usr/local/opt/go/libexec/bin:/Users/iangregson/.local/bin:/Users/iangregson/istio-0.8.0/bin\r\n"
     ]
    }
   ],
   "source": [
    "!echo $PATH"
   ]
  },
  {
   "cell_type": "code",
   "execution_count": 1,
   "metadata": {},
   "outputs": [],
   "source": [
    "# Let's load up our std libraries and start having some fun\n",
    "\n",
    "import pandas as pd\n",
    "import matplotlib\n",
    "import numpy as np\n",
    "import matplotlib.pyplot as plt\n",
    "%matplotlib inline\n",
    "\n",
    "# Set up some necessary constants\n",
    "RANDOM_SEED = 42\n",
    "K_FOLDS = 10"
   ]
  },
  {
   "cell_type": "code",
   "execution_count": 3,
   "metadata": {},
   "outputs": [
    {
     "data": {
      "text/html": [
       "<div>\n",
       "<style scoped>\n",
       "    .dataframe tbody tr th:only-of-type {\n",
       "        vertical-align: middle;\n",
       "    }\n",
       "\n",
       "    .dataframe tbody tr th {\n",
       "        vertical-align: top;\n",
       "    }\n",
       "\n",
       "    .dataframe thead th {\n",
       "        text-align: right;\n",
       "    }\n",
       "</style>\n",
       "<table border=\"1\" class=\"dataframe\">\n",
       "  <thead>\n",
       "    <tr style=\"text-align: right;\">\n",
       "      <th></th>\n",
       "      <th>Labels</th>\n",
       "      <th>AccountId</th>\n",
       "      <th>Account_Region__c</th>\n",
       "      <th>Account_Theater__c</th>\n",
       "      <th>Actions_Next_Week_with_Owners__c</th>\n",
       "      <th>Actions_Owners__c</th>\n",
       "      <th>Actions_Since_Last_Week__c</th>\n",
       "      <th>Actual_Launch_Date__c</th>\n",
       "      <th>ACV__c</th>\n",
       "      <th>Add_Billing_Contact__c</th>\n",
       "      <th>...</th>\n",
       "      <th>Why_should_the_customer_change__c</th>\n",
       "      <th>Why_should_they_work_with_MuleSoft__c</th>\n",
       "      <th>Winning_Competitor__c</th>\n",
       "      <th>Name</th>\n",
       "      <th>CreatedDate</th>\n",
       "      <th>CloseDate</th>\n",
       "      <th>Amount</th>\n",
       "      <th>StageName</th>\n",
       "      <th>Probability</th>\n",
       "      <th>Type</th>\n",
       "    </tr>\n",
       "  </thead>\n",
       "  <tbody>\n",
       "    <tr>\n",
       "      <th>20024</th>\n",
       "      <td>00634000017xSLDAA2</td>\n",
       "      <td>0013400001QoYJGAA3</td>\n",
       "      <td>UK</td>\n",
       "      <td>EMEA</td>\n",
       "      <td>NaN</td>\n",
       "      <td>NaN</td>\n",
       "      <td>NaN</td>\n",
       "      <td>NaN</td>\n",
       "      <td>111343.0</td>\n",
       "      <td>False</td>\n",
       "      <td>...</td>\n",
       "      <td>NaN</td>\n",
       "      <td>NaN</td>\n",
       "      <td>NaN</td>\n",
       "      <td>GWLC - Enterprise Connectivity</td>\n",
       "      <td>2017-02-24 16:29:39</td>\n",
       "      <td>2017-09-25</td>\n",
       "      <td>111343.00</td>\n",
       "      <td>Closed Lost</td>\n",
       "      <td>0.0</td>\n",
       "      <td>New Business</td>\n",
       "    </tr>\n",
       "    <tr>\n",
       "      <th>25384</th>\n",
       "      <td>00634000019AnjqAAC</td>\n",
       "      <td>0018000000f9jagAAA</td>\n",
       "      <td>North</td>\n",
       "      <td>NaN</td>\n",
       "      <td>NaN</td>\n",
       "      <td>NaN</td>\n",
       "      <td>NaN</td>\n",
       "      <td>NaN</td>\n",
       "      <td>114498.0</td>\n",
       "      <td>False</td>\n",
       "      <td>...</td>\n",
       "      <td>NaN</td>\n",
       "      <td>NaN</td>\n",
       "      <td>NaN</td>\n",
       "      <td>TD Bank - API - PSD2</td>\n",
       "      <td>2017-07-06 20:06:00</td>\n",
       "      <td>2018-09-10</td>\n",
       "      <td>114498.00</td>\n",
       "      <td>Closed Lost</td>\n",
       "      <td>0.0</td>\n",
       "      <td>New Business</td>\n",
       "    </tr>\n",
       "    <tr>\n",
       "      <th>20755</th>\n",
       "      <td>00634000017yn9bAAA</td>\n",
       "      <td>0013400001MrnhYAAR</td>\n",
       "      <td>NaN</td>\n",
       "      <td>NaN</td>\n",
       "      <td>NaN</td>\n",
       "      <td>NaN</td>\n",
       "      <td>NaN</td>\n",
       "      <td>NaN</td>\n",
       "      <td>0.0</td>\n",
       "      <td>False</td>\n",
       "      <td>...</td>\n",
       "      <td>NaN</td>\n",
       "      <td>NaN</td>\n",
       "      <td>NaN</td>\n",
       "      <td>fstichem.com Dataloader - Dataloader - Nov 2017</td>\n",
       "      <td>2017-03-09 05:27:13</td>\n",
       "      <td>2017-02-28</td>\n",
       "      <td>99.00</td>\n",
       "      <td>Closed Won</td>\n",
       "      <td>100.0</td>\n",
       "      <td>Add-On Business</td>\n",
       "    </tr>\n",
       "    <tr>\n",
       "      <th>21779</th>\n",
       "      <td>00634000018Lz3JAAS</td>\n",
       "      <td>0018000001C8TiyAAF</td>\n",
       "      <td>North</td>\n",
       "      <td>NaN</td>\n",
       "      <td>NaN</td>\n",
       "      <td>NaN</td>\n",
       "      <td>NaN</td>\n",
       "      <td>NaN</td>\n",
       "      <td>0.0</td>\n",
       "      <td>False</td>\n",
       "      <td>...</td>\n",
       "      <td>NaN</td>\n",
       "      <td>NaN</td>\n",
       "      <td>NaN</td>\n",
       "      <td>Northwestern Mutual - NGIS phase 1 - 2017 Rene...</td>\n",
       "      <td>2017-03-28 21:37:22</td>\n",
       "      <td>2017-04-01</td>\n",
       "      <td>42632.88</td>\n",
       "      <td>Closed Won</td>\n",
       "      <td>100.0</td>\n",
       "      <td>Renewal - Multi-Year</td>\n",
       "    </tr>\n",
       "    <tr>\n",
       "      <th>197</th>\n",
       "      <td>00634000011ovmbAAA</td>\n",
       "      <td>0018000000Zy94pAAB</td>\n",
       "      <td>South</td>\n",
       "      <td>NaN</td>\n",
       "      <td>NaN</td>\n",
       "      <td>NaN</td>\n",
       "      <td>NaN</td>\n",
       "      <td>NaN</td>\n",
       "      <td>0.0</td>\n",
       "      <td>False</td>\n",
       "      <td>...</td>\n",
       "      <td>NaN</td>\n",
       "      <td>NaN</td>\n",
       "      <td>NaN</td>\n",
       "      <td>Equifax - Tcat Renewal 2017</td>\n",
       "      <td>2016-03-21 15:47:11</td>\n",
       "      <td>2017-03-19</td>\n",
       "      <td>27861.60</td>\n",
       "      <td>Closed Won</td>\n",
       "      <td>100.0</td>\n",
       "      <td>Renewal</td>\n",
       "    </tr>\n",
       "  </tbody>\n",
       "</table>\n",
       "<p>5 rows × 470 columns</p>\n",
       "</div>"
      ],
      "text/plain": [
       "                   Labels           AccountId Account_Region__c  \\\n",
       "20024  00634000017xSLDAA2  0013400001QoYJGAA3                UK   \n",
       "25384  00634000019AnjqAAC  0018000000f9jagAAA             North   \n",
       "20755  00634000017yn9bAAA  0013400001MrnhYAAR               NaN   \n",
       "21779  00634000018Lz3JAAS  0018000001C8TiyAAF             North   \n",
       "197    00634000011ovmbAAA  0018000000Zy94pAAB             South   \n",
       "\n",
       "      Account_Theater__c Actions_Next_Week_with_Owners__c Actions_Owners__c  \\\n",
       "20024               EMEA                              NaN               NaN   \n",
       "25384                NaN                              NaN               NaN   \n",
       "20755                NaN                              NaN               NaN   \n",
       "21779                NaN                              NaN               NaN   \n",
       "197                  NaN                              NaN               NaN   \n",
       "\n",
       "       Actions_Since_Last_Week__c  Actual_Launch_Date__c    ACV__c  \\\n",
       "20024                         NaN                    NaN  111343.0   \n",
       "25384                         NaN                    NaN  114498.0   \n",
       "20755                         NaN                    NaN       0.0   \n",
       "21779                         NaN                    NaN       0.0   \n",
       "197                           NaN                    NaN       0.0   \n",
       "\n",
       "       Add_Billing_Contact__c          ...           \\\n",
       "20024                   False          ...            \n",
       "25384                   False          ...            \n",
       "20755                   False          ...            \n",
       "21779                   False          ...            \n",
       "197                     False          ...            \n",
       "\n",
       "       Why_should_the_customer_change__c  \\\n",
       "20024                                NaN   \n",
       "25384                                NaN   \n",
       "20755                                NaN   \n",
       "21779                                NaN   \n",
       "197                                  NaN   \n",
       "\n",
       "       Why_should_they_work_with_MuleSoft__c Winning_Competitor__c  \\\n",
       "20024                                    NaN                   NaN   \n",
       "25384                                    NaN                   NaN   \n",
       "20755                                    NaN                   NaN   \n",
       "21779                                    NaN                   NaN   \n",
       "197                                      NaN                   NaN   \n",
       "\n",
       "                                                    Name          CreatedDate  \\\n",
       "20024                     GWLC - Enterprise Connectivity  2017-02-24 16:29:39   \n",
       "25384                               TD Bank - API - PSD2  2017-07-06 20:06:00   \n",
       "20755    fstichem.com Dataloader - Dataloader - Nov 2017  2017-03-09 05:27:13   \n",
       "21779  Northwestern Mutual - NGIS phase 1 - 2017 Rene...  2017-03-28 21:37:22   \n",
       "197                          Equifax - Tcat Renewal 2017  2016-03-21 15:47:11   \n",
       "\n",
       "        CloseDate     Amount    StageName Probability                  Type  \n",
       "20024  2017-09-25  111343.00  Closed Lost         0.0          New Business  \n",
       "25384  2018-09-10  114498.00  Closed Lost         0.0          New Business  \n",
       "20755  2017-02-28      99.00   Closed Won       100.0       Add-On Business  \n",
       "21779  2017-04-01   42632.88   Closed Won       100.0  Renewal - Multi-Year  \n",
       "197    2017-03-19   27861.60   Closed Won       100.0               Renewal  \n",
       "\n",
       "[5 rows x 470 columns]"
      ]
     },
     "metadata": {},
     "output_type": "display_data"
    },
    {
     "name": "stdout",
     "output_type": "stream",
     "text": [
      "There are 33338 rows and 470 columns in the dataset.\n"
     ]
    }
   ],
   "source": [
    "raw_opportunities_data = pd.read_csv('data/csv/raw_data.csv', low_memory=False)\n",
    "display(raw_opportunities_data.sample(5))\n",
    "print('There are {} rows and {} columns in the dataset.'.format(raw_opportunities_data.shape[0], raw_opportunities_data.shape[1]))"
   ]
  },
  {
   "cell_type": "code",
   "execution_count": 4,
   "metadata": {},
   "outputs": [
    {
     "data": {
      "text/html": [
       "<div>\n",
       "<style scoped>\n",
       "    .dataframe tbody tr th:only-of-type {\n",
       "        vertical-align: middle;\n",
       "    }\n",
       "\n",
       "    .dataframe tbody tr th {\n",
       "        vertical-align: top;\n",
       "    }\n",
       "\n",
       "    .dataframe thead th {\n",
       "        text-align: right;\n",
       "    }\n",
       "</style>\n",
       "<table border=\"1\" class=\"dataframe\">\n",
       "  <thead>\n",
       "    <tr style=\"text-align: right;\">\n",
       "      <th></th>\n",
       "      <th>Actions_Since_Last_Week__c</th>\n",
       "      <th>Actual_Launch_Date__c</th>\n",
       "      <th>ACV__c</th>\n",
       "      <th>Add_On_Business_Subscription__c</th>\n",
       "      <th>Application_Server_s__c</th>\n",
       "      <th>Average_ACV__c</th>\n",
       "      <th>Budget__c</th>\n",
       "      <th>Check_In_Date__c</th>\n",
       "      <th>CloudHub_Use_Case__c</th>\n",
       "      <th>Commit_Month__c</th>\n",
       "      <th>...</th>\n",
       "      <th>The_Power_of_One__c</th>\n",
       "      <th>Total_List_Discount__c</th>\n",
       "      <th>Total_List_Price__c</th>\n",
       "      <th>Training_Amount__c</th>\n",
       "      <th>Uploaded_Evidence_of_Delivery_to_Account__c</th>\n",
       "      <th>Value_MuleSoft_generates__c</th>\n",
       "      <th>Weighted_ACV_Amount__c</th>\n",
       "      <th>Weighted_Services_Amount__c</th>\n",
       "      <th>Amount</th>\n",
       "      <th>Probability</th>\n",
       "    </tr>\n",
       "  </thead>\n",
       "  <tbody>\n",
       "    <tr>\n",
       "      <th>count</th>\n",
       "      <td>0.0</td>\n",
       "      <td>0.0</td>\n",
       "      <td>3.333800e+04</td>\n",
       "      <td>1.196800e+04</td>\n",
       "      <td>0.0</td>\n",
       "      <td>0.0</td>\n",
       "      <td>0.0</td>\n",
       "      <td>0.0</td>\n",
       "      <td>0.0</td>\n",
       "      <td>0.0</td>\n",
       "      <td>...</td>\n",
       "      <td>33338.0</td>\n",
       "      <td>3.020500e+04</td>\n",
       "      <td>3.333800e+04</td>\n",
       "      <td>33338.000000</td>\n",
       "      <td>0.0</td>\n",
       "      <td>4.300000e+01</td>\n",
       "      <td>3.333800e+04</td>\n",
       "      <td>3.333800e+04</td>\n",
       "      <td>3.184500e+04</td>\n",
       "      <td>33338.000000</td>\n",
       "    </tr>\n",
       "    <tr>\n",
       "      <th>mean</th>\n",
       "      <td>NaN</td>\n",
       "      <td>NaN</td>\n",
       "      <td>5.035573e+04</td>\n",
       "      <td>2.575826e+04</td>\n",
       "      <td>NaN</td>\n",
       "      <td>NaN</td>\n",
       "      <td>NaN</td>\n",
       "      <td>NaN</td>\n",
       "      <td>NaN</td>\n",
       "      <td>NaN</td>\n",
       "      <td>...</td>\n",
       "      <td>1.0</td>\n",
       "      <td>-1.003571e+05</td>\n",
       "      <td>7.296944e+05</td>\n",
       "      <td>1005.668067</td>\n",
       "      <td>NaN</td>\n",
       "      <td>6.831922e+07</td>\n",
       "      <td>8.082654e+03</td>\n",
       "      <td>4.214033e+03</td>\n",
       "      <td>8.884807e+04</td>\n",
       "      <td>54.713720</td>\n",
       "    </tr>\n",
       "    <tr>\n",
       "      <th>std</th>\n",
       "      <td>NaN</td>\n",
       "      <td>NaN</td>\n",
       "      <td>1.090373e+05</td>\n",
       "      <td>1.303161e+05</td>\n",
       "      <td>NaN</td>\n",
       "      <td>NaN</td>\n",
       "      <td>NaN</td>\n",
       "      <td>NaN</td>\n",
       "      <td>NaN</td>\n",
       "      <td>NaN</td>\n",
       "      <td>...</td>\n",
       "      <td>0.0</td>\n",
       "      <td>2.275772e+06</td>\n",
       "      <td>5.646617e+07</td>\n",
       "      <td>5334.996386</td>\n",
       "      <td>NaN</td>\n",
       "      <td>2.975846e+08</td>\n",
       "      <td>7.054960e+04</td>\n",
       "      <td>3.883476e+04</td>\n",
       "      <td>1.986473e+05</td>\n",
       "      <td>48.753502</td>\n",
       "    </tr>\n",
       "    <tr>\n",
       "      <th>min</th>\n",
       "      <td>NaN</td>\n",
       "      <td>NaN</td>\n",
       "      <td>-3.250000e+05</td>\n",
       "      <td>-8.500000e+03</td>\n",
       "      <td>NaN</td>\n",
       "      <td>NaN</td>\n",
       "      <td>NaN</td>\n",
       "      <td>NaN</td>\n",
       "      <td>NaN</td>\n",
       "      <td>NaN</td>\n",
       "      <td>...</td>\n",
       "      <td>1.0</td>\n",
       "      <td>-1.885000e+08</td>\n",
       "      <td>-1.190000e+04</td>\n",
       "      <td>-12090.000000</td>\n",
       "      <td>NaN</td>\n",
       "      <td>0.000000e+00</td>\n",
       "      <td>-3.250000e+05</td>\n",
       "      <td>-2.040300e+05</td>\n",
       "      <td>-3.250000e+05</td>\n",
       "      <td>0.000000</td>\n",
       "    </tr>\n",
       "    <tr>\n",
       "      <th>25%</th>\n",
       "      <td>NaN</td>\n",
       "      <td>NaN</td>\n",
       "      <td>0.000000e+00</td>\n",
       "      <td>0.000000e+00</td>\n",
       "      <td>NaN</td>\n",
       "      <td>NaN</td>\n",
       "      <td>NaN</td>\n",
       "      <td>NaN</td>\n",
       "      <td>NaN</td>\n",
       "      <td>NaN</td>\n",
       "      <td>...</td>\n",
       "      <td>1.0</td>\n",
       "      <td>0.000000e+00</td>\n",
       "      <td>2.990000e+02</td>\n",
       "      <td>0.000000</td>\n",
       "      <td>NaN</td>\n",
       "      <td>1.567036e+06</td>\n",
       "      <td>0.000000e+00</td>\n",
       "      <td>0.000000e+00</td>\n",
       "      <td>2.990000e+02</td>\n",
       "      <td>0.000000</td>\n",
       "    </tr>\n",
       "    <tr>\n",
       "      <th>50%</th>\n",
       "      <td>NaN</td>\n",
       "      <td>NaN</td>\n",
       "      <td>0.000000e+00</td>\n",
       "      <td>0.000000e+00</td>\n",
       "      <td>NaN</td>\n",
       "      <td>NaN</td>\n",
       "      <td>NaN</td>\n",
       "      <td>NaN</td>\n",
       "      <td>NaN</td>\n",
       "      <td>NaN</td>\n",
       "      <td>...</td>\n",
       "      <td>1.0</td>\n",
       "      <td>5.000000e+00</td>\n",
       "      <td>7.220000e+04</td>\n",
       "      <td>0.000000</td>\n",
       "      <td>NaN</td>\n",
       "      <td>5.400000e+06</td>\n",
       "      <td>0.000000e+00</td>\n",
       "      <td>0.000000e+00</td>\n",
       "      <td>4.270350e+04</td>\n",
       "      <td>100.000000</td>\n",
       "    </tr>\n",
       "    <tr>\n",
       "      <th>75%</th>\n",
       "      <td>NaN</td>\n",
       "      <td>NaN</td>\n",
       "      <td>7.887700e+04</td>\n",
       "      <td>0.000000e+00</td>\n",
       "      <td>NaN</td>\n",
       "      <td>NaN</td>\n",
       "      <td>NaN</td>\n",
       "      <td>NaN</td>\n",
       "      <td>NaN</td>\n",
       "      <td>NaN</td>\n",
       "      <td>...</td>\n",
       "      <td>1.0</td>\n",
       "      <td>3.400000e+01</td>\n",
       "      <td>1.514570e+05</td>\n",
       "      <td>0.000000</td>\n",
       "      <td>NaN</td>\n",
       "      <td>1.120000e+07</td>\n",
       "      <td>0.000000e+00</td>\n",
       "      <td>0.000000e+00</td>\n",
       "      <td>1.206370e+05</td>\n",
       "      <td>100.000000</td>\n",
       "    </tr>\n",
       "    <tr>\n",
       "      <th>max</th>\n",
       "      <td>NaN</td>\n",
       "      <td>NaN</td>\n",
       "      <td>6.601738e+06</td>\n",
       "      <td>6.601738e+06</td>\n",
       "      <td>NaN</td>\n",
       "      <td>NaN</td>\n",
       "      <td>NaN</td>\n",
       "      <td>NaN</td>\n",
       "      <td>NaN</td>\n",
       "      <td>NaN</td>\n",
       "      <td>...</td>\n",
       "      <td>1.0</td>\n",
       "      <td>6.969580e+06</td>\n",
       "      <td>5.595040e+09</td>\n",
       "      <td>268386.650000</td>\n",
       "      <td>NaN</td>\n",
       "      <td>1.940000e+09</td>\n",
       "      <td>6.601738e+06</td>\n",
       "      <td>3.214212e+06</td>\n",
       "      <td>1.155000e+07</td>\n",
       "      <td>100.000000</td>\n",
       "    </tr>\n",
       "  </tbody>\n",
       "</table>\n",
       "<p>8 rows × 137 columns</p>\n",
       "</div>"
      ],
      "text/plain": [
       "       Actions_Since_Last_Week__c  Actual_Launch_Date__c        ACV__c  \\\n",
       "count                         0.0                    0.0  3.333800e+04   \n",
       "mean                          NaN                    NaN  5.035573e+04   \n",
       "std                           NaN                    NaN  1.090373e+05   \n",
       "min                           NaN                    NaN -3.250000e+05   \n",
       "25%                           NaN                    NaN  0.000000e+00   \n",
       "50%                           NaN                    NaN  0.000000e+00   \n",
       "75%                           NaN                    NaN  7.887700e+04   \n",
       "max                           NaN                    NaN  6.601738e+06   \n",
       "\n",
       "       Add_On_Business_Subscription__c  Application_Server_s__c  \\\n",
       "count                     1.196800e+04                      0.0   \n",
       "mean                      2.575826e+04                      NaN   \n",
       "std                       1.303161e+05                      NaN   \n",
       "min                      -8.500000e+03                      NaN   \n",
       "25%                       0.000000e+00                      NaN   \n",
       "50%                       0.000000e+00                      NaN   \n",
       "75%                       0.000000e+00                      NaN   \n",
       "max                       6.601738e+06                      NaN   \n",
       "\n",
       "       Average_ACV__c  Budget__c  Check_In_Date__c  CloudHub_Use_Case__c  \\\n",
       "count             0.0        0.0               0.0                   0.0   \n",
       "mean              NaN        NaN               NaN                   NaN   \n",
       "std               NaN        NaN               NaN                   NaN   \n",
       "min               NaN        NaN               NaN                   NaN   \n",
       "25%               NaN        NaN               NaN                   NaN   \n",
       "50%               NaN        NaN               NaN                   NaN   \n",
       "75%               NaN        NaN               NaN                   NaN   \n",
       "max               NaN        NaN               NaN                   NaN   \n",
       "\n",
       "       Commit_Month__c      ...       The_Power_of_One__c  \\\n",
       "count              0.0      ...                   33338.0   \n",
       "mean               NaN      ...                       1.0   \n",
       "std                NaN      ...                       0.0   \n",
       "min                NaN      ...                       1.0   \n",
       "25%                NaN      ...                       1.0   \n",
       "50%                NaN      ...                       1.0   \n",
       "75%                NaN      ...                       1.0   \n",
       "max                NaN      ...                       1.0   \n",
       "\n",
       "       Total_List_Discount__c  Total_List_Price__c  Training_Amount__c  \\\n",
       "count            3.020500e+04         3.333800e+04        33338.000000   \n",
       "mean            -1.003571e+05         7.296944e+05         1005.668067   \n",
       "std              2.275772e+06         5.646617e+07         5334.996386   \n",
       "min             -1.885000e+08        -1.190000e+04       -12090.000000   \n",
       "25%              0.000000e+00         2.990000e+02            0.000000   \n",
       "50%              5.000000e+00         7.220000e+04            0.000000   \n",
       "75%              3.400000e+01         1.514570e+05            0.000000   \n",
       "max              6.969580e+06         5.595040e+09       268386.650000   \n",
       "\n",
       "       Uploaded_Evidence_of_Delivery_to_Account__c  \\\n",
       "count                                          0.0   \n",
       "mean                                           NaN   \n",
       "std                                            NaN   \n",
       "min                                            NaN   \n",
       "25%                                            NaN   \n",
       "50%                                            NaN   \n",
       "75%                                            NaN   \n",
       "max                                            NaN   \n",
       "\n",
       "       Value_MuleSoft_generates__c  Weighted_ACV_Amount__c  \\\n",
       "count                 4.300000e+01            3.333800e+04   \n",
       "mean                  6.831922e+07            8.082654e+03   \n",
       "std                   2.975846e+08            7.054960e+04   \n",
       "min                   0.000000e+00           -3.250000e+05   \n",
       "25%                   1.567036e+06            0.000000e+00   \n",
       "50%                   5.400000e+06            0.000000e+00   \n",
       "75%                   1.120000e+07            0.000000e+00   \n",
       "max                   1.940000e+09            6.601738e+06   \n",
       "\n",
       "       Weighted_Services_Amount__c        Amount   Probability  \n",
       "count                 3.333800e+04  3.184500e+04  33338.000000  \n",
       "mean                  4.214033e+03  8.884807e+04     54.713720  \n",
       "std                   3.883476e+04  1.986473e+05     48.753502  \n",
       "min                  -2.040300e+05 -3.250000e+05      0.000000  \n",
       "25%                   0.000000e+00  2.990000e+02      0.000000  \n",
       "50%                   0.000000e+00  4.270350e+04    100.000000  \n",
       "75%                   0.000000e+00  1.206370e+05    100.000000  \n",
       "max                   3.214212e+06  1.155000e+07    100.000000  \n",
       "\n",
       "[8 rows x 137 columns]"
      ]
     },
     "execution_count": 4,
     "metadata": {},
     "output_type": "execute_result"
    }
   ],
   "source": [
    "# naively get stats\n",
    "raw_opportunities_data.describe()"
   ]
  },
  {
   "cell_type": "markdown",
   "metadata": {},
   "source": [
    "It appears the dataset contains a number of cells that are NaN or a data type that is unsuitable for using in an ML model. These will need to be removed during the project's data preprocessing step.\n",
    "\n",
    "While this will reduce the number of features to an extent, once the remaining features are vectorized it is likely the total number will grow very large. To combat this, a feature selection step should be included during data preprocessing."
   ]
  },
  {
   "cell_type": "code",
   "execution_count": 5,
   "metadata": {},
   "outputs": [
    {
     "ename": "ModuleNotFoundError",
     "evalue": "No module named 'seaborn'",
     "output_type": "error",
     "traceback": [
      "\u001b[0;31m---------------------------------------------------------------------------\u001b[0m",
      "\u001b[0;31mModuleNotFoundError\u001b[0m                       Traceback (most recent call last)",
      "\u001b[0;32m<ipython-input-5-e862872f6bc4>\u001b[0m in \u001b[0;36m<module>\u001b[0;34m()\u001b[0m\n\u001b[0;32m----> 1\u001b[0;31m \u001b[0;32mimport\u001b[0m \u001b[0mseaborn\u001b[0m \u001b[0;32mas\u001b[0m \u001b[0msns\u001b[0m\u001b[0;34m\u001b[0m\u001b[0;34m\u001b[0m\u001b[0m\n\u001b[0m\u001b[1;32m      2\u001b[0m \u001b[0;32mimport\u001b[0m \u001b[0mmatplotlib\u001b[0m\u001b[0;34m.\u001b[0m\u001b[0mpyplot\u001b[0m \u001b[0;32mas\u001b[0m \u001b[0mplt\u001b[0m\u001b[0;34m\u001b[0m\u001b[0;34m\u001b[0m\u001b[0m\n\u001b[1;32m      3\u001b[0m \u001b[0;34m\u001b[0m\u001b[0m\n\u001b[1;32m      4\u001b[0m \u001b[0mdata_types\u001b[0m \u001b[0;34m=\u001b[0m \u001b[0mraw_opportunities_data\u001b[0m\u001b[0;34m.\u001b[0m\u001b[0mcolumns\u001b[0m\u001b[0;34m.\u001b[0m\u001b[0mto_series\u001b[0m\u001b[0;34m(\u001b[0m\u001b[0;34m)\u001b[0m\u001b[0;34m.\u001b[0m\u001b[0mgroupby\u001b[0m\u001b[0;34m(\u001b[0m\u001b[0mraw_opportunities_data\u001b[0m\u001b[0;34m.\u001b[0m\u001b[0mdtypes\u001b[0m\u001b[0;34m)\u001b[0m\u001b[0;34m.\u001b[0m\u001b[0mgroups\u001b[0m\u001b[0;34m\u001b[0m\u001b[0;34m\u001b[0m\u001b[0m\n\u001b[1;32m      5\u001b[0m \u001b[0mdata_types_list\u001b[0m \u001b[0;34m=\u001b[0m \u001b[0;34m[\u001b[0m\u001b[0;34m]\u001b[0m\u001b[0;34m\u001b[0m\u001b[0;34m\u001b[0m\u001b[0m\n",
      "\u001b[0;31mModuleNotFoundError\u001b[0m: No module named 'seaborn'"
     ]
    }
   ],
   "source": [
    "import seaborn as sns\n",
    "import matplotlib.pyplot as plt\n",
    "\n",
    "data_types = raw_opportunities_data.columns.to_series().groupby(raw_opportunities_data.dtypes).groups\n",
    "data_types_list = []\n",
    "\n",
    "for t in data_types:\n",
    "    data_types_list.append([str(t), len(data_types[t])])\n",
    "\n",
    "data_types = pd.DataFrame(data_types_list, columns=['Data type','Count'])\n",
    "display(data_types)\n",
    "sns.set(style=\"whitegrid\")\n",
    "sns.set_color_codes(\"pastel\")\n",
    "sns.barplot(x=\"Count\", y=\"Data type\", data=data_types)"
   ]
  },
  {
   "cell_type": "markdown",
   "metadata": {},
   "source": [
    "Of the 471 columns in the dataset, most are of the `object` data type. A number of these columns are most likely not useful and visual inspection of the data will be necessary to establish which of these categorical features need to be dropped from the dataset. The rest of the `boolean` and `object` type categorical features will then be vectorized before they go forward into feature selection."
   ]
  },
  {
   "cell_type": "code",
   "execution_count": 6,
   "metadata": {},
   "outputs": [
    {
     "data": {
      "text/plain": [
       "Labels                                         False\n",
       "AccountId                                      False\n",
       "Account_Region__c                               True\n",
       "Account_Theater__c                              True\n",
       "Actions_Next_Week_with_Owners__c                True\n",
       "Actions_Owners__c                               True\n",
       "Actions_Since_Last_Week__c                      True\n",
       "Actual_Launch_Date__c                           True\n",
       "ACV__c                                         False\n",
       "Add_Billing_Contact__c                         False\n",
       "Added_Billing_Address__c                       False\n",
       "Added_Product_Dates__c                         False\n",
       "Additional_Information_Comments__c              True\n",
       "Additional_partner_info_optional__c             True\n",
       "Additional_SC_notes__c                          True\n",
       "Addl_background_on_contact__c                   True\n",
       "Addl_context_on_biz_outcome_optional__c         True\n",
       "Addl_info_re_MuleSoft_impact_optional__c        True\n",
       "Addnt_detail_on_project_resourcing__c           True\n",
       "Add_On_Business_Subscription__c                 True\n",
       "Add_On_Type__c                                  True\n",
       "AE_Connect_Completed__c                        False\n",
       "AE_Connect_Scheduled__c                        False\n",
       "A_Game_Plan__c                                  True\n",
       "Agreement_Open_Issues__c                        True\n",
       "Agreement_Status__c                             True\n",
       "Agreement_Type__c                               True\n",
       "Any_outstanding_issues__c                       True\n",
       "Anypoint_Username__c                            True\n",
       "A_Opportunity_Status__c                         True\n",
       "                                               ...  \n",
       "What_did_we_learn_on_the_intro_call__c          True\n",
       "What_does_prospect_think_problem_is__c          True\n",
       "What_initiatives_will_we_support__c             True\n",
       "What_is_our_partner_engagement_strategy__c      True\n",
       "What_is_our_plan_for_exec_engagement__c         True\n",
       "What_is_the_business_need_initiative__c         True\n",
       "What_is_the_funding_process__c                  True\n",
       "What_is_the_plan_to_convince_them__c            True\n",
       "What_is_the_selection_process__c                True\n",
       "What_is_the_use_case_s__c                       True\n",
       "What_pain_areas_should_we_dig_deeper_on__c      True\n",
       "What_partner_s_does_the_cust_prefer__c          True\n",
       "What_products_are_they_evaluating__c            True\n",
       "What_upfront_contract_was_set_for_call__c       True\n",
       "What_will_developers_need_to_succeed__c         True\n",
       "Who_cares_about_it__c                           True\n",
       "Who_is_leading_the_sale__c                      True\n",
       "Who_is_the_competition__c                       True\n",
       "Who_needs_to_be_convinced_of_what_for_se__c     True\n",
       "Why_does_this_opp_merit_more_investment__c      True\n",
       "Why_should_the_customer_change__c               True\n",
       "Why_should_they_work_with_MuleSoft__c           True\n",
       "Winning_Competitor__c                           True\n",
       "Name                                           False\n",
       "CreatedDate                                    False\n",
       "CloseDate                                      False\n",
       "Amount                                          True\n",
       "StageName                                      False\n",
       "Probability                                    False\n",
       "Type                                            True\n",
       "Length: 470, dtype: bool"
      ]
     },
     "execution_count": 6,
     "metadata": {},
     "output_type": "execute_result"
    }
   ],
   "source": [
    "raw_opportunities_data.isnull().any()"
   ]
  },
  {
   "cell_type": "markdown",
   "metadata": {},
   "source": [
    "There are a large number of columns with `null` values. If a feature has too many `null` values, it will not be useful to the final model and will be dropped. Otherwise, the `null` values will be filled using Pandas' `.fillna` method."
   ]
  },
  {
   "cell_type": "code",
   "execution_count": 7,
   "metadata": {},
   "outputs": [
    {
     "data": {
      "text/html": [
       "<div>\n",
       "<style scoped>\n",
       "    .dataframe tbody tr th:only-of-type {\n",
       "        vertical-align: middle;\n",
       "    }\n",
       "\n",
       "    .dataframe tbody tr th {\n",
       "        vertical-align: top;\n",
       "    }\n",
       "\n",
       "    .dataframe thead th {\n",
       "        text-align: right;\n",
       "    }\n",
       "</style>\n",
       "<table border=\"1\" class=\"dataframe\">\n",
       "  <thead>\n",
       "    <tr style=\"text-align: right;\">\n",
       "      <th></th>\n",
       "      <th>StageName</th>\n",
       "    </tr>\n",
       "  </thead>\n",
       "  <tbody>\n",
       "    <tr>\n",
       "      <th>count</th>\n",
       "      <td>33338</td>\n",
       "    </tr>\n",
       "    <tr>\n",
       "      <th>unique</th>\n",
       "      <td>18</td>\n",
       "    </tr>\n",
       "    <tr>\n",
       "      <th>top</th>\n",
       "      <td>Closed Won</td>\n",
       "    </tr>\n",
       "    <tr>\n",
       "      <th>freq</th>\n",
       "      <td>17115</td>\n",
       "    </tr>\n",
       "  </tbody>\n",
       "</table>\n",
       "</div>"
      ],
      "text/plain": [
       "         StageName\n",
       "count        33338\n",
       "unique          18\n",
       "top     Closed Won\n",
       "freq         17115"
      ]
     },
     "metadata": {},
     "output_type": "display_data"
    },
    {
     "data": {
      "text/html": [
       "<div>\n",
       "<style scoped>\n",
       "    .dataframe tbody tr th:only-of-type {\n",
       "        vertical-align: middle;\n",
       "    }\n",
       "\n",
       "    .dataframe tbody tr th {\n",
       "        vertical-align: top;\n",
       "    }\n",
       "\n",
       "    .dataframe thead th {\n",
       "        text-align: right;\n",
       "    }\n",
       "</style>\n",
       "<table border=\"1\" class=\"dataframe\">\n",
       "  <thead>\n",
       "    <tr style=\"text-align: right;\">\n",
       "      <th></th>\n",
       "      <th>StageName</th>\n",
       "    </tr>\n",
       "  </thead>\n",
       "  <tbody>\n",
       "    <tr>\n",
       "      <th>10774</th>\n",
       "      <td>Closed Lost</td>\n",
       "    </tr>\n",
       "    <tr>\n",
       "      <th>9010</th>\n",
       "      <td>Closed Won</td>\n",
       "    </tr>\n",
       "    <tr>\n",
       "      <th>10414</th>\n",
       "      <td>Closed Lost</td>\n",
       "    </tr>\n",
       "    <tr>\n",
       "      <th>26927</th>\n",
       "      <td>Closed Won</td>\n",
       "    </tr>\n",
       "    <tr>\n",
       "      <th>20643</th>\n",
       "      <td>Closed Won</td>\n",
       "    </tr>\n",
       "    <tr>\n",
       "      <th>17784</th>\n",
       "      <td>Closed Lost</td>\n",
       "    </tr>\n",
       "    <tr>\n",
       "      <th>552</th>\n",
       "      <td>0. Sales Qualified Lead</td>\n",
       "    </tr>\n",
       "    <tr>\n",
       "      <th>20685</th>\n",
       "      <td>Closed Won</td>\n",
       "    </tr>\n",
       "    <tr>\n",
       "      <th>26910</th>\n",
       "      <td>0. Sales Qualified Lead</td>\n",
       "    </tr>\n",
       "    <tr>\n",
       "      <th>14210</th>\n",
       "      <td>Closed Won</td>\n",
       "    </tr>\n",
       "  </tbody>\n",
       "</table>\n",
       "</div>"
      ],
      "text/plain": [
       "                     StageName\n",
       "10774              Closed Lost\n",
       "9010                Closed Won\n",
       "10414              Closed Lost\n",
       "26927               Closed Won\n",
       "20643               Closed Won\n",
       "17784              Closed Lost\n",
       "552    0. Sales Qualified Lead\n",
       "20685               Closed Won\n",
       "26910  0. Sales Qualified Lead\n",
       "14210               Closed Won"
      ]
     },
     "metadata": {},
     "output_type": "display_data"
    },
    {
     "data": {
      "text/plain": [
       "<matplotlib.axes._subplots.AxesSubplot at 0x1140f6c18>"
      ]
     },
     "execution_count": 7,
     "metadata": {},
     "output_type": "execute_result"
    },
    {
     "data": {
      "image/png": "[encoded data removed]",
      "text/plain": [
       "<Figure size 432x288 with 1 Axes>"
      ]
     },
     "metadata": {},
     "output_type": "display_data"
    }
   ],
   "source": [
    "display(raw_opportunities_data[['StageName']].describe())\n",
    "display(raw_opportunities_data[['StageName']].sample(10))\n",
    "pd.value_counts(raw_opportunities_data['StageName']).plot.bar()"
   ]
  },
  {
   "cell_type": "markdown",
   "metadata": {},
   "source": [
    "`StageName` is the label that this project is concerned with. As the graph shows, there are many different stage to which an opportunity can belong. This project is only concerned with two categories: 'Closed Won' and 'Closed Lost'. The dataset will be filtered to only include rows that have either of these labels.\n",
    "\n",
    "It is also clear from the above graph that there are many more `Closed Won` samples than `Closed Lost`. This makes it all the more important that randomized test and validation slices are taken from the input data when training models. It will also be important to keep this in mind when assessing performance of the model: the uneven number of samples in each class anticipates a that a model could find _recall_ success but suffer from a high rate of false positives/negatives."
   ]
  },
  {
   "cell_type": "markdown",
   "metadata": {},
   "source": [
    "### TODO :: Exploratory Visualization"
   ]
  },
  {
   "cell_type": "markdown",
   "metadata": {},
   "source": [
    "In this section, you will need to provide some form of visualization that summarizes or extracts a relevant characteristic or feature about the data. The visualization should adequately support the data being used. Discuss why this visualization was chosen and how it is relevant. Questions to ask yourself when writing this section:\n",
    "- _Have you visualized a relevant characteristic or feature about the dataset or input data?_\n",
    "- _Is the visualization thoroughly analyzed and discussed?_\n",
    "- _If a plot is provided, are the axes, title, and datum clearly defined?_\n"
   ]
  },
  {
   "cell_type": "markdown",
   "metadata": {},
   "source": [
    "### Algorithms and Techniques"
   ]
  },
  {
   "cell_type": "markdown",
   "metadata": {},
   "source": [
    "In this section, you will need to discuss the algorithms and techniques you intend to use for solving the problem. You should justify the use of each one based on the characteristics of the problem and the problem domain. Questions to ask yourself when writing this section:\n",
    "- _Are the algorithms you will use, including any default variables/parameters in the project clearly defined?_\n",
    "- _Are the techniques to be used thoroughly discussed and justified?_\n",
    "- _Is it made clear how the input data or datasets will be handled by the algorithms and techniques chosen?_\n"
   ]
  },
  {
   "cell_type": "markdown",
   "metadata": {},
   "source": [
    "A number of algorithms will be employed in this project:\n",
    "\n",
    "**Pandas**\n",
    "\n",
    "* `.dropna()`\n",
    "* `.fillna()`\n",
    "\n",
    "These utilities are used to remove null samples from the dataset.\n",
    "\n",
    "**Utilities**\n",
    "\n",
    "* `make_scorer`\n",
    "* `DummyClassifier`\n",
    "* `DictVectorizer`\n",
    "* `LabelEncoder`\n",
    "* `MaxAbsScaler`\n",
    "* `SelectKBest`\n",
    "* `train_test_split`\n",
    "* `Kfold`\n",
    "* `cross_val_score`\n",
    "* `GridSearchCV`\n",
    "\n",
    "**Classifiers**\n",
    "\n",
    "* `LogisticRegression`\n",
    "* `GaussianNB`\n",
    "* `KNeighborsClassifier`\n",
    "* `SVC`\n",
    "* `RandomForestClassifier`\n",
    "* `lgb.sklearn.LGBMClassifier`\n",
    "* `xgb.XGBClassifier`\n",
    "\n",
    "Each classifier is employed at first with it's default configuration i.e. no parameters are passed to the constructor. Each of these models are tested with k-fold cross validation scored with the **f1 score** metric. The classifier that performs best in this pass will then be reconfigured with hyper-parameters using `GridSearchCV`."
   ]
  },
  {
   "cell_type": "markdown",
   "metadata": {},
   "source": [
    "### Benchmark"
   ]
  },
  {
   "cell_type": "markdown",
   "metadata": {},
   "source": [
    "In this section, you will need to provide a clearly defined benchmark result or threshold for comparing across performances obtained by your solution. The reasoning behind the benchmark (in the case where it is not an established result) should be discussed. Questions to ask yourself when writing this section:\n",
    "- _Has some result or value been provided that acts as a benchmark for measuring performance?_\n",
    "- _Is it clear how this result or value was obtained (whether by data or by hypothesis)?_\n"
   ]
  },
  {
   "cell_type": "markdown",
   "metadata": {},
   "source": [
    "For the purposes of this project, it is sufficient to build a model that is demonstrably better than a guess. Thus, it is sufficient to use sci-kit learn's dummy classifier to build a fake model. Then, the performance of this dummy model will be measured using the same metric (**f1 score**) as will be used to asses the final model.\n",
    "\n",
    "The mean (**f1 score**) of the cross validated dummy classifier then gives a benchmark against which to judge the final model."
   ]
  },
  {
   "cell_type": "code",
   "execution_count": 8,
   "metadata": {},
   "outputs": [],
   "source": [
    "# Let's load up our std libraries and start having some fun\n",
    "\n",
    "import pandas as pd\n",
    "import matplotlib\n",
    "import numpy as np\n",
    "import matplotlib.pyplot as plt\n",
    "import utils\n",
    "%matplotlib inline\n",
    "\n",
    "# Set up some necessary constants\n",
    "SPLIT_RANDOM_SEED = 42\n",
    "DCLF_RANDOM_SEED = 42\n",
    "K_FOLD_RANDOM_SEED = 3\n",
    "K_FOLDS = 5\n",
    "K_FEATURES = 200\n",
    "NA_THRESHOLD = 0.975\n",
    "LABEL_COLUMN = 'StageName'"
   ]
  },
  {
   "cell_type": "markdown",
   "metadata": {},
   "source": [
    "#### Metrics"
   ]
  },
  {
   "cell_type": "code",
   "execution_count": 9,
   "metadata": {},
   "outputs": [],
   "source": [
    "#  Set up a scoring function that uses the f1 score metric\n",
    "from sklearn.metrics import f1_score, make_scorer\n",
    "f1_scorer = make_scorer(f1_score)"
   ]
  },
  {
   "cell_type": "markdown",
   "metadata": {},
   "source": [
    "#### Dummy Classifier"
   ]
  },
  {
   "cell_type": "code",
   "execution_count": 10,
   "metadata": {},
   "outputs": [],
   "source": [
    "#  Set up the dummy classifier\n",
    "from sklearn.dummy import DummyClassifier\n",
    "dclf = DummyClassifier(random_state=DCLF_RANDOM_SEED)"
   ]
  },
  {
   "cell_type": "markdown",
   "metadata": {},
   "source": [
    "#### Benchmark"
   ]
  },
  {
   "cell_type": "code",
   "execution_count": 11,
   "metadata": {},
   "outputs": [
    {
     "data": {
      "text/plain": [
       "'Mean f1_score from KFold cross validation 0.73'"
      ]
     },
     "metadata": {},
     "output_type": "display_data"
    }
   ],
   "source": [
    "# First up, load the raw dataset\n",
    "raw_data = pd.read_csv('data/csv/raw_data.csv', low_memory=False)\n",
    "\n",
    "# Drop rows with labels that are not relevant and separate features from labels\n",
    "data = utils.drop_rows(raw_data)\n",
    "labels = utils.get_labels(data, label_column=LABEL_COLUMN)\n",
    "features = data.drop(columns=[LABEL_COLUMN], axis=1)\n",
    "features = utils.drop_na_columns(features, label_column=LABEL_COLUMN, na_threshold=NA_THRESHOLD)\n",
    "\n",
    "# Columns that are deemed to be of no worth or are direct proxies for the label columns\n",
    "cols_to_remove = [\n",
    "    'Labels',\n",
    "    'Name',\n",
    "    'CreatedDate',\n",
    "    'CloseDate',\n",
    "    'Probability',\n",
    "    'AccountId',\n",
    "    'ACV__c',\n",
    "    'CreatedById',\n",
    "    'Created_Date_30_day_lookback__c',\n",
    "    'CurrencyIsoCode',\n",
    "    'DM_Close_Type__c',\n",
    "    'DM_Won_Amount__c',\n",
    "    'ExpectedRevenue',\n",
    "    'forecast__c',\n",
    "    'ForecastCategory',\n",
    "    'ForecastCategoryName',\n",
    "    'Id',\n",
    "    'LastModifiedById',\n",
    "    'mkto_si__MarketoAnalyzer__c',\n",
    "    'Opportunity_ID_18_digit__c',\n",
    "    'Opportunity_Owner_ID_18_digit__c',\n",
    "    'Original_Quote__c',\n",
    "    'OwnerId',\n",
    "    'Pricebook2Id',\n",
    "    'RecordTypeId',\n",
    "    'Renewal_Forecast_Amount__c',\n",
    "    'Stage__c',\n",
    "    'Stage_Choices__c',\n",
    "    'Strategy_Choices__c',\n",
    "    'Id.1',\n",
    "    'Metric_Price2Close__c',\n",
    "    'IsWon'\n",
    "]\n",
    "\n",
    "features = features.drop(columns=cols_to_remove, axis=1)\n",
    "features = utils.encode(features)\n",
    "\n",
    "# One hot encode categorical features\n",
    "features = utils.encode(features)\n",
    "\n",
    "# Train test split\n",
    "X_train, X_test, y_train, y_test = utils.data_split(features, labels, random_state=SPLIT_RANDOM_SEED)\n",
    "\n",
    "# Feature scaling\n",
    "from sklearn.preprocessing import MaxAbsScaler\n",
    "\n",
    "max_abs_scaler = MaxAbsScaler()\n",
    "X_train = max_abs_scaler.fit_transform(X_train)\n",
    "X_test = max_abs_scaler.fit_transform(X_test)\n",
    "\n",
    "# Feature selection\n",
    "X_train = utils.feature_selection(X_train, y_train, K_FEATURES)\n",
    "\n",
    "# Score the dummy classifier\n",
    "from sklearn import model_selection\n",
    "kfold = model_selection.KFold(n_splits=K_FOLDS, random_state=K_FOLD_RANDOM_SEED)\n",
    "cv_results = model_selection.cross_val_score(dclf, X_train, y_train, cv=kfold, scoring=f1_scorer)\n",
    "display('Mean f1_score from KFold cross validation {:0.2f}'.format(cv_results.mean()))"
   ]
  },
  {
   "cell_type": "markdown",
   "metadata": {},
   "source": [
    "The DummyClassifier achieves an average of **f1 score** 73%. This establishes a baseline for assessing the success of the final modal. Given the dataset, a guess could be expected to be accurate in 73% of predictions. In order to demonstrate that the final model built in the project is better than a guess, it must a achieve a better average f1 score than 73%."
   ]
  },
  {
   "cell_type": "markdown",
   "metadata": {},
   "source": [
    "## 3. Methodolgy"
   ]
  },
  {
   "cell_type": "markdown",
   "metadata": {},
   "source": [
    "### Data Preprocessing"
   ]
  },
  {
   "cell_type": "markdown",
   "metadata": {},
   "source": [
    "In this section, all of your preprocessing steps will need to be clearly documented, if any were necessary. From the previous section, any of the abnormalities or characteristics that you identified about the dataset will be addressed and corrected here. Questions to ask yourself when writing this section:\n",
    "- _If the algorithms chosen require preprocessing steps like feature selection or feature transformations, have they been properly documented?_\n",
    "- _Based on the **Data Exploration** section, if there were abnormalities or characteristics that needed to be addressed, have they been properly corrected?_\n",
    "- _If no preprocessing is needed, has it been made clear why?_\n"
   ]
  },
  {
   "cell_type": "markdown",
   "metadata": {},
   "source": [
    "A number of preprocessing steps will be required in order to ready the data for use in training a model. These steps are as follows:\n",
    "\n",
    "* Load the raw dataset\n",
    "* Filter the samples down to only those that include the labels that are useful for purposes here: `Closed won` and `Closed lost`\n",
    "* Separate the labels column from the features and encode them\n",
    "* Drop columns that have too many rows without a value and backfill the remain the columns\n",
    "* Make a visual inspection of the remaining columns\n",
    "* Drop a number of columns by name that are known to be of no use or are a direct proxy for the label column\n",
    "* Make a list of the categorical features in the dataset and One Hot Encode them\n",
    "* Write the processed dataset to CSV and make a final inspection"
   ]
  },
  {
   "cell_type": "code",
   "execution_count": 12,
   "metadata": {},
   "outputs": [],
   "source": [
    "# Let's load up our std libraries and start having some fun\n",
    "\n",
    "import pandas as pd\n",
    "import matplotlib\n",
    "import numpy as np\n",
    "import matplotlib.pyplot as plt\n",
    "import utils\n",
    "%matplotlib inline\n",
    "\n",
    "# Set up some necessary constants\n",
    "SPLIT_RANDOM_SEED = 42\n",
    "K_FOLD_RANDOM_SEED = 3\n",
    "K_FOLDS = 5\n",
    "K_FEATURES = 200\n",
    "NA_THRESHOLD = 0.975\n",
    "LABEL_COLUMN = 'StageName'"
   ]
  },
  {
   "cell_type": "markdown",
   "metadata": {},
   "source": [
    "#### Load the raw dataset"
   ]
  },
  {
   "cell_type": "code",
   "execution_count": 15,
   "metadata": {},
   "outputs": [
    {
     "data": {
      "text/plain": [
       "(33338, 470)"
      ]
     },
     "metadata": {},
     "output_type": "display_data"
    }
   ],
   "source": [
    "# First up, load the raw dataset\n",
    "raw_data = pd.read_csv('data/csv/raw_data.csv', low_memory=False)\n",
    "display(raw_data.shape)"
   ]
  },
  {
   "cell_type": "markdown",
   "metadata": {},
   "source": [
    "#### Filter the samples down to only those that include the labels that are useful for purposes here: `Closed won` and `Closed lost`"
   ]
  },
  {
   "cell_type": "code",
   "execution_count": 16,
   "metadata": {},
   "outputs": [
    {
     "data": {
      "text/plain": [
       "(29003, 470)"
      ]
     },
     "metadata": {},
     "output_type": "display_data"
    }
   ],
   "source": [
    "data = utils.drop_rows(raw_data)\n",
    "display(data.shape)"
   ]
  },
  {
   "cell_type": "markdown",
   "metadata": {},
   "source": [
    "#### Separate the labels column from the features and encode them"
   ]
  },
  {
   "cell_type": "code",
   "execution_count": 17,
   "metadata": {},
   "outputs": [
    {
     "data": {
      "text/plain": [
       "(29003, 469)"
      ]
     },
     "metadata": {},
     "output_type": "display_data"
    },
    {
     "data": {
      "text/plain": [
       "(29003,)"
      ]
     },
     "metadata": {},
     "output_type": "display_data"
    }
   ],
   "source": [
    "labels = utils.get_labels(data, label_column=LABEL_COLUMN)\n",
    "features = data.drop(columns=[LABEL_COLUMN], axis=1)\n",
    "display(features.shape)\n",
    "display(labels.shape)"
   ]
  },
  {
   "cell_type": "markdown",
   "metadata": {},
   "source": [
    "#### Drop columns that have too many rows without a value and backfill the remain the columns"
   ]
  },
  {
   "cell_type": "code",
   "execution_count": 18,
   "metadata": {},
   "outputs": [
    {
     "data": {
      "text/plain": [
       "(29003, 128)"
      ]
     },
     "metadata": {},
     "output_type": "display_data"
    }
   ],
   "source": [
    "features = utils.drop_na_columns(features, label_column=LABEL_COLUMN, na_threshold=NA_THRESHOLD)\n",
    "display(features.shape)"
   ]
  },
  {
   "cell_type": "markdown",
   "metadata": {},
   "source": [
    "#### Drop columns that are directly correlated with the label column (label proxies e.g. 'IsWon')"
   ]
  },
  {
   "cell_type": "code",
   "execution_count": null,
   "metadata": {},
   "outputs": [],
   "source": [
    "# features = utils.drop_corr(features, labels)\n",
    "\n",
    "# def drop_corr(features, labels):\n",
    "#     corr = features.sample(500).corrwith(pd.DataFrame(labels[:500]))\n",
    "#     display(corr.dropna())\n",
    "    \n",
    "# drop_corr(features, labels)\n",
    "\n",
    "f = features['LABELS'] = labels\n",
    "f = features.corr()\n"
   ]
  },
  {
   "cell_type": "code",
   "execution_count": 36,
   "metadata": {},
   "outputs": [],
   "source": [
    "f = f.loc['LABELS']"
   ]
  },
  {
   "cell_type": "code",
   "execution_count": null,
   "metadata": {},
   "outputs": [],
   "source": [
    "display(f[f > 0.5])"
   ]
  },
  {
   "cell_type": "markdown",
   "metadata": {},
   "source": [
    "#### Make a visual inspection of the remaining columns"
   ]
  },
  {
   "cell_type": "code",
   "execution_count": 19,
   "metadata": {},
   "outputs": [],
   "source": [
    "data = features\n",
    "data['labels'] = labels\n",
    "data.to_csv('data/csv/preview_data.csv', index=False)"
   ]
  },
  {
   "cell_type": "code",
   "execution_count": 21,
   "metadata": {},
   "outputs": [
    {
     "data": {
      "text/plain": [
       "(29003, 98)"
      ]
     },
     "metadata": {},
     "output_type": "display_data"
    }
   ],
   "source": [
    "# Columns that are deemed to be of no worth or are direct proxies for the label columns\n",
    "cols_to_remove = [\n",
    "    'Labels',\n",
    "    'Name',\n",
    "    'CreatedDate',\n",
    "    'CloseDate',\n",
    "    'Probability',\n",
    "    'AccountId',\n",
    "    'ACV__c',\n",
    "    'CreatedById',\n",
    "    'Created_Date_30_day_lookback__c',\n",
    "    'CurrencyIsoCode',\n",
    "    'DM_Close_Type__c',\n",
    "    'DM_Won_Amount__c',\n",
    "    'ExpectedRevenue',\n",
    "    'forecast__c',\n",
    "    'ForecastCategory',\n",
    "    'ForecastCategoryName',\n",
    "    'Id',\n",
    "    'LastModifiedById',\n",
    "    'mkto_si__MarketoAnalyzer__c',\n",
    "    'Opportunity_ID_18_digit__c',\n",
    "    'Opportunity_Owner_ID_18_digit__c',\n",
    "    'Original_Quote__c',\n",
    "    'OwnerId',\n",
    "    'Pricebook2Id',\n",
    "    'RecordTypeId',\n",
    "    'Renewal_Forecast_Amount__c',\n",
    "    'Stage__c',\n",
    "    'Stage_Choices__c',\n",
    "    'Strategy_Choices__c',\n",
    "    'Metric_Price2Close__c',\n",
    "    'IsWon'\n",
    "]\n",
    "\n",
    "features = features.drop(columns=cols_to_remove, axis=1)\n",
    "display(features.shape)"
   ]
  },
  {
   "cell_type": "markdown",
   "metadata": {},
   "source": [
    "#### Make a list of the categorical features in the dataset and One Hot Encode them"
   ]
  },
  {
   "cell_type": "code",
   "execution_count": 22,
   "metadata": {},
   "outputs": [
    {
     "data": {
      "text/plain": [
       "(29003, 6625)"
      ]
     },
     "metadata": {},
     "output_type": "display_data"
    }
   ],
   "source": [
    "features = utils.encode(features)\n",
    "display(features.shape)"
   ]
  },
  {
   "cell_type": "markdown",
   "metadata": {},
   "source": [
    "#### Write the processed dataset to CSV"
   ]
  },
  {
   "cell_type": "code",
   "execution_count": 23,
   "metadata": {},
   "outputs": [],
   "source": [
    "data = features\n",
    "data['labels'] = labels\n",
    "data.to_csv('data/csv/processed_data.csv', index=False)"
   ]
  },
  {
   "cell_type": "markdown",
   "metadata": {},
   "source": [
    "With the features encoded, the number of columns swells up to 6,625. This is likely too many and so a feature selection stage will be important during implementation."
   ]
  },
  {
   "cell_type": "markdown",
   "metadata": {},
   "source": [
    "### Implementation"
   ]
  },
  {
   "cell_type": "markdown",
   "metadata": {},
   "source": [
    "In this section, the process for which metrics, algorithms, and techniques that you implemented for the given data will need to be clearly documented. It should be abundantly clear how the implementation was carried out, and discussion should be made regarding any complications that occurred during this process. Questions to ask yourself when writing this section:\n",
    "- _Is it made clear how the algorithms and techniques were implemented with the given datasets or input data?_\n",
    "- _Were there any complications with the original metrics or techniques that required changing prior to acquiring a solution?_\n",
    "- _Was there any part of the coding process (e.g., writing complicated functions) that should be documented?_\n"
   ]
  },
  {
   "cell_type": "markdown",
   "metadata": {},
   "source": [
    "#### Data loading"
   ]
  },
  {
   "cell_type": "code",
   "execution_count": 1,
   "metadata": {},
   "outputs": [],
   "source": [
    "# Let's load up our std libraries and start having some fun\n",
    "\n",
    "import pandas as pd\n",
    "import matplotlib\n",
    "import numpy as np\n",
    "import matplotlib.pyplot as plt\n",
    "import utils\n",
    "%matplotlib inline\n",
    "\n",
    "# Set up some necessary constants\n",
    "SPLIT_RANDOM_SEED = 42\n",
    "K_FOLD_RANDOM_SEED = 3\n",
    "K_FOLDS = 5\n",
    "K_FEATURES = 200\n",
    "NA_THRESHOLD = 0.975\n",
    "LABEL_COLUMN = 'StageName'"
   ]
  },
  {
   "cell_type": "code",
   "execution_count": 2,
   "metadata": {},
   "outputs": [
    {
     "data": {
      "text/plain": [
       "(33338, 471)"
      ]
     },
     "metadata": {},
     "output_type": "display_data"
    }
   ],
   "source": [
    "# First up, load the raw dataset\n",
    "raw_data = pd.read_csv('data/csv/raw_data.csv', low_memory=False)\n",
    "raw_data = raw_data.reset_index()\n",
    "display(raw_data.shape)"
   ]
  },
  {
   "cell_type": "markdown",
   "metadata": {},
   "source": [
    "#### Pre-processing"
   ]
  },
  {
   "cell_type": "code",
   "execution_count": 3,
   "metadata": {},
   "outputs": [
    {
     "data": {
      "text/plain": [
       "(29003, 471)"
      ]
     },
     "metadata": {},
     "output_type": "display_data"
    },
    {
     "data": {
      "text/plain": [
       "(29003, 470)"
      ]
     },
     "metadata": {},
     "output_type": "display_data"
    },
    {
     "data": {
      "text/plain": [
       "(29003,)"
      ]
     },
     "metadata": {},
     "output_type": "display_data"
    },
    {
     "data": {
      "text/plain": [
       "(29003, 129)"
      ]
     },
     "metadata": {},
     "output_type": "display_data"
    },
    {
     "data": {
      "text/plain": [
       "(29003, 98)"
      ]
     },
     "metadata": {},
     "output_type": "display_data"
    },
    {
     "data": {
      "text/plain": [
       "(29003, 6625)"
      ]
     },
     "metadata": {},
     "output_type": "display_data"
    }
   ],
   "source": [
    "data = utils.drop_rows(raw_data)\n",
    "display(data.shape)\n",
    "labels = utils.get_labels(data, label_column=LABEL_COLUMN)\n",
    "features = data.drop(columns=[LABEL_COLUMN], axis=1)\n",
    "display(features.shape)\n",
    "display(labels.shape)\n",
    "features = utils.drop_na_columns(features, label_column=LABEL_COLUMN, na_threshold=NA_THRESHOLD)\n",
    "display(features.shape)\n",
    "# Columns that are deemed to be of no worth or are direct proxies for the label columns\n",
    "cols_to_remove = [\n",
    "    'Labels',\n",
    "    'Name',\n",
    "    'CreatedDate',\n",
    "    'CloseDate',\n",
    "    'Probability',\n",
    "    'AccountId',\n",
    "    'ACV__c',\n",
    "    'CreatedById',\n",
    "    'Created_Date_30_day_lookback__c',\n",
    "    'CurrencyIsoCode',\n",
    "    'DM_Close_Type__c',\n",
    "    'DM_Won_Amount__c',\n",
    "    'ExpectedRevenue',\n",
    "    'forecast__c',\n",
    "    'ForecastCategory',\n",
    "    'ForecastCategoryName',\n",
    "    'Id',\n",
    "    'LastModifiedById',\n",
    "    'mkto_si__MarketoAnalyzer__c',\n",
    "    'Opportunity_ID_18_digit__c',\n",
    "    'Opportunity_Owner_ID_18_digit__c',\n",
    "    'Original_Quote__c',\n",
    "    'OwnerId',\n",
    "    'Pricebook2Id',\n",
    "    'RecordTypeId',\n",
    "    'Renewal_Forecast_Amount__c',\n",
    "    'Stage__c',\n",
    "    'Stage_Choices__c',\n",
    "    'Strategy_Choices__c',\n",
    "    'Metric_Price2Close__c',\n",
    "    'IsWon'\n",
    "]\n",
    "\n",
    "features = features.drop(columns=cols_to_remove, axis=1)\n",
    "display(features.shape)\n",
    "features = utils.encode(features)\n",
    "display(features.shape)\n",
    "features = features.dropna(axis='columns')"
   ]
  },
  {
   "cell_type": "markdown",
   "metadata": {},
   "source": [
    "#### Train / Test Split"
   ]
  },
  {
   "cell_type": "code",
   "execution_count": 4,
   "metadata": {},
   "outputs": [],
   "source": [
    "X_train, X_test, y_train, y_test = utils.data_split(features, labels, random_state=SPLIT_RANDOM_SEED)"
   ]
  },
  {
   "cell_type": "markdown",
   "metadata": {},
   "source": [
    "#### Scaling"
   ]
  },
  {
   "cell_type": "code",
   "execution_count": 5,
   "metadata": {},
   "outputs": [],
   "source": [
    "from sklearn.preprocessing import MaxAbsScaler\n",
    "\n",
    "max_abs_scaler = MaxAbsScaler()\n",
    "X_train = max_abs_scaler.fit_transform(X_train)\n",
    "X_test = max_abs_scaler.fit_transform(X_test)"
   ]
  },
  {
   "cell_type": "markdown",
   "metadata": {},
   "source": [
    "#### Feature selection"
   ]
  },
  {
   "cell_type": "code",
   "execution_count": 6,
   "metadata": {},
   "outputs": [
    {
     "data": {
      "text/plain": [
       "(23202, 200)"
      ]
     },
     "metadata": {},
     "output_type": "display_data"
    }
   ],
   "source": [
    "X_train = utils.feature_selection(X_train, y_train, K_FEATURES)\n",
    "display(X_train.shape)"
   ]
  },
  {
   "cell_type": "markdown",
   "metadata": {},
   "source": [
    "#### Metrics"
   ]
  },
  {
   "cell_type": "code",
   "execution_count": 7,
   "metadata": {},
   "outputs": [],
   "source": [
    "#  Set up a scoring function that uses the f1 score metric\n",
    "from sklearn.metrics import f1_score, make_scorer\n",
    "f1_scorer = make_scorer(f1_score)"
   ]
  },
  {
   "cell_type": "markdown",
   "metadata": {},
   "source": [
    "#### Model selection"
   ]
  },
  {
   "cell_type": "code",
   "execution_count": 8,
   "metadata": {},
   "outputs": [
    {
     "name": "stderr",
     "output_type": "stream",
     "text": [
      "/usr/local/lib/python3.7/site-packages/lightgbm/__init__.py:46: UserWarning: Starting from version 2.2.1, the library file in distribution wheels for macOS is built by the Apple Clang (Xcode_8.3.1) compiler.\n",
      "This means that in case of installing LightGBM from PyPI via the ``pip install lightgbm`` command, you don't need to install the gcc compiler anymore.\n",
      "Instead of that, you need to install the OpenMP library, which is required for running LightGBM on the system with the Apple Clang compiler.\n",
      "You can install the OpenMP library by the following command: ``brew install libomp``.\n",
      "  \"You can install the OpenMP library by the following command: ``brew install libomp``.\", UserWarning)\n"
     ]
    },
    {
     "name": "stdout",
     "output_type": "stream",
     "text": [
      "LR: 0.940236 (0.003584)\n",
      "NB: 0.915246 (0.008298)\n",
      "KNN: 0.934473 (0.003593)\n",
      "SVM: 0.932342 (0.003358)\n",
      "RF: 0.988892 (0.001500)\n",
      "LGBM: 0.995564 (0.000422)\n",
      "XGB: 0.994304 (0.001004)\n"
     ]
    },
    {
     "data": {
      "image/png": "[encoded data removed]",
      "text/plain": [
       "<Figure size 432x288 with 1 Axes>"
      ]
     },
     "metadata": {},
     "output_type": "display_data"
    }
   ],
   "source": [
    "# Importing libraries\n",
    "from sklearn import model_selection\n",
    "from sklearn.linear_model import LogisticRegression\n",
    "from sklearn.tree import DecisionTreeClassifier\n",
    "from sklearn.neighbors import KNeighborsClassifier\n",
    "from sklearn.discriminant_analysis import LinearDiscriminantAnalysis\n",
    "from sklearn.naive_bayes import GaussianNB\n",
    "from sklearn.svm import SVC\n",
    "from sklearn.ensemble import RandomForestClassifier\n",
    "import lightgbm as lgb\n",
    "import xgboost as xgb\n",
    "import warnings\n",
    "warnings.filterwarnings('ignore')\n",
    "\n",
    "# Preparing models\n",
    "models = []\n",
    "models.append(('LR', LogisticRegression()))\n",
    "models.append(('NB', GaussianNB()))\n",
    "models.append(('KNN', KNeighborsClassifier()))\n",
    "models.append(('SVM', SVC()))\n",
    "models.append(('RF', RandomForestClassifier()))\n",
    "models.append(('LGBM', lgb.sklearn.LGBMClassifier()))\n",
    "models.append(('XGB', xgb.XGBClassifier()))\n",
    "\n",
    "# Model Evaluation\n",
    "results = []\n",
    "names = []\n",
    "\n",
    "for name, model in models:\n",
    "    kfold = model_selection.KFold(n_splits=K_FOLDS, random_state=K_FOLD_RANDOM_SEED)\n",
    "    cv_results = model_selection.cross_val_score(model, X_train, y_train, cv=kfold, scoring=f1_scorer)\n",
    "    results.append(cv_results)\n",
    "    names.append(name)\n",
    "    msg = \"%s: %f (%f)\" % (name, cv_results.mean(), cv_results.std())\n",
    "    print(msg)\n",
    "\n",
    "# Boxplot to compare algorithms\n",
    "fig = plt.figure()\n",
    "fig.suptitle('Comparison of Classification Algorithms')\n",
    "ax = fig.add_subplot(111)\n",
    "plt.boxplot(results)\n",
    "ax.set_xticklabels(names)\n",
    "plt.show()"
   ]
  },
  {
   "cell_type": "markdown",
   "metadata": {},
   "source": [
    "### Refinement"
   ]
  },
  {
   "cell_type": "markdown",
   "metadata": {},
   "source": [
    "In this section, you will need to discuss the process of improvement you made upon the algorithms and techniques you used in your implementation. For example, adjusting parameters for certain models to acquire improved solutions would fall under the refinement category. Your initial and final solutions should be reported, as well as any significant intermediate results as necessary. Questions to ask yourself when writing this section:\n",
    "- _Has an initial solution been found and clearly reported?_\n",
    "- _Is the process of improvement clearly documented, such as what techniques were used?_\n",
    "- _Are intermediate and final solutions clearly reported as the process is improved?_\n"
   ]
  },
  {
   "cell_type": "markdown",
   "metadata": {},
   "source": [
    "#### Hyper Parameter Grid Search"
   ]
  },
  {
   "cell_type": "code",
   "execution_count": null,
   "metadata": {},
   "outputs": [],
   "source": []
  },
  {
   "cell_type": "markdown",
   "metadata": {},
   "source": [
    "## 4. Results"
   ]
  },
  {
   "cell_type": "markdown",
   "metadata": {},
   "source": [
    "### Model Evaluation and Validation"
   ]
  },
  {
   "cell_type": "markdown",
   "metadata": {},
   "source": [
    "In this section, the final model and any supporting qualities should be evaluated in detail. It should be clear how the final model was derived and why this model was chosen. In addition, some type of analysis should be used to validate the robustness of this model and its solution, such as manipulating the input data or environment to see how the model’s solution is affected (this is called sensitivity analysis). Questions to ask yourself when writing this section:\n",
    "- _Is the final model reasonable and aligning with solution expectations? Are the final parameters of the model appropriate?_\n",
    "- _Has the final model been tested with various inputs to evaluate whether the model generalizes well to unseen data?_\n",
    "- _Is the model robust enough for the problem? Do small perturbations (changes) in training data or the input space greatly affect the results?_\n",
    "- _Can results found from the model be trusted?_\n"
   ]
  },
  {
   "cell_type": "code",
   "execution_count": null,
   "metadata": {},
   "outputs": [],
   "source": []
  },
  {
   "cell_type": "markdown",
   "metadata": {},
   "source": [
    "### Jusitifcation"
   ]
  },
  {
   "cell_type": "markdown",
   "metadata": {},
   "source": [
    "In this section, your model’s final solution and its results should be compared to the benchmark you established earlier in the project using some type of statistical analysis. You should also justify whether these results and the solution are significant enough to have solved the problem posed in the project. Questions to ask yourself when writing this section:\n",
    "- _Are the final results found stronger than the benchmark result reported earlier?_\n",
    "- _Have you thoroughly analyzed and discussed the final solution?_\n",
    "- _Is the final solution significant enough to have solved the problem?_\n"
   ]
  },
  {
   "cell_type": "code",
   "execution_count": null,
   "metadata": {},
   "outputs": [],
   "source": []
  },
  {
   "cell_type": "markdown",
   "metadata": {},
   "source": [
    "## 5. Conclusion"
   ]
  },
  {
   "cell_type": "markdown",
   "metadata": {},
   "source": [
    "### Free-Form Visualization"
   ]
  },
  {
   "cell_type": "markdown",
   "metadata": {},
   "source": [
    "In this section, you will need to provide some form of visualization that emphasizes an important quality about the project. It is much more free-form, but should reasonably support a significant result or characteristic about the problem that you want to discuss. Questions to ask yourself when writing this section:\n",
    "- _Have you visualized a relevant or important quality about the problem, dataset, input data, or results?_\n",
    "- _Is the visualization thoroughly analyzed and discussed?_\n",
    "- _If a plot is provided, are the axes, title, and datum clearly defined?_\n"
   ]
  },
  {
   "cell_type": "code",
   "execution_count": null,
   "metadata": {},
   "outputs": [],
   "source": []
  },
  {
   "cell_type": "markdown",
   "metadata": {},
   "source": [
    "### Reflection"
   ]
  },
  {
   "cell_type": "markdown",
   "metadata": {},
   "source": [
    "In this section, you will summarize the entire end-to-end problem solution and discuss one or two particular aspects of the project you found interesting or difficult. You are expected to reflect on the project as a whole to show that you have a firm understanding of the entire process employed in your work. Questions to ask yourself when writing this section:\n",
    "- _Have you thoroughly summarized the entire process you used for this project?_\n",
    "- _Were there any interesting aspects of the project?_\n",
    "- _Were there any difficult aspects of the project?_\n",
    "- _Does the final model and solution fit your expectations for the problem, and should it be used in a general setting to solve these types of problems?_\n"
   ]
  },
  {
   "cell_type": "code",
   "execution_count": null,
   "metadata": {},
   "outputs": [],
   "source": []
  },
  {
   "cell_type": "markdown",
   "metadata": {},
   "source": [
    "### Improvement"
   ]
  },
  {
   "cell_type": "markdown",
   "metadata": {},
   "source": [
    "In this section, you will need to provide discussion as to how one aspect of the implementation you designed could be improved. As an example, consider ways your implementation can be made more general, and what would need to be modified. You do not need to make this improvement, but the potential solutions resulting from these changes are considered and compared/contrasted to your current solution. Questions to ask yourself when writing this section:\n",
    "- _Are there further improvements that could be made on the algorithms or techniques you used in this project?_\n",
    "- _Were there algorithms or techniques you researched that you did not know how to implement, but would consider using if you knew how?_\n",
    "- _If you used your final solution as the new benchmark, do you think an even better solution exists?_\n"
   ]
  },
  {
   "cell_type": "code",
   "execution_count": null,
   "metadata": {},
   "outputs": [],
   "source": []
  },
  {
   "cell_type": "markdown",
   "metadata": {},
   "source": [
    "--------------------------------------------------------------------------\n",
    "\n",
    "**Before submitting, ask yourself. . .**\n",
    "\n",
    "- Does the project report you’ve written follow a well-organized structure similar to that of the project template?\n",
    "- Is each section (particularly **Analysis** and **Methodology**) written in a clear, concise and specific fashion? Are there any ambiguous terms or phrases that need clarification?\n",
    "- Would the intended audience of your project be able to understand your analysis, methods, and results?\n",
    "- Have you properly proof-read your project report to assure there are minimal grammatical and spelling mistakes?\n",
    "- Are all the resources used for this project correctly cited and referenced?\n",
    "- Is the code that implements your solution easily readable and properly commented?\n",
    "- Does the code execute without error and produce results similar to those reported?\n"
   ]
  }
 ],
 "metadata": {
  "kernelspec": {
   "display_name": "Python 3",
   "language": "python",
   "name": "python3"
  },
  "language_info": {
   "codemirror_mode": {
    "name": "ipython",
    "version": 3
   },
   "file_extension": ".py",
   "mimetype": "text/x-python",
   "name": "python",
   "nbconvert_exporter": "python",
   "pygments_lexer": "ipython3",
   "version": "3.7.1"
  }
 },
 "nbformat": 4,
 "nbformat_minor": 2
}
