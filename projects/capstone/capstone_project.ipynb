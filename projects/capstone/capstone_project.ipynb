{
 "cells": [
  {
   "cell_type": "markdown",
   "metadata": {},
   "source": [
    "# Machine Learning Engineer Nanodegree\n",
    "## Capstone Project\n",
    "Ian Gregson\n",
    "September 22nd 2018"
   ]
  },
  {
   "cell_type": "markdown",
   "metadata": {},
   "source": [
    "# 1. Definition"
   ]
  },
  {
   "cell_type": "markdown",
   "metadata": {},
   "source": [
    "### Project Overview"
   ]
  },
  {
   "cell_type": "markdown",
   "metadata": {},
   "source": [
    "In this section, look to provide a high-level overview of the project in layman’s terms. Questions to ask yourself when writing this section:\n",
    "- _Has an overview of the project been provided, such as the problem domain, project origin, and related datasets or input data?_\n",
    "- _Has enough background information been given so that an uninformed reader would understand the problem domain and following problem statement?_\n"
   ]
  },
  {
   "cell_type": "markdown",
   "metadata": {},
   "source": [
    "The domain background for this project is that it comes directly from my work for a startup that is building a customer data platform that helps users maximize their account based recurring revenue. In this field, BizOps profressional leverage large quantities of data from multiple sources such as CRMs or customer engagement analytics tools. The platform we build collates thiss data to provide a single view of an account (a non trivial problem in this space) but much of the insights that are gleaned from this large quantity of data come from the judgements of BizOps professionals studying the data.\n",
    "\n",
    "The project seeks to take steps into a new way of deriving insights from this large suite of structured data. By automating some aspects of the data analysis with machine learning models will free up the professionals to apply their extensive domain expertise in solving new problems.\n",
    "\n",
    "I have a personal motivation in undertaking this project because I want to help push my team to become leaders in our field."
   ]
  },
  {
   "cell_type": "markdown",
   "metadata": {},
   "source": [
    "### Problem Statement"
   ]
  },
  {
   "cell_type": "markdown",
   "metadata": {},
   "source": [
    "In this section, you will want to clearly define the problem that you are trying to solve, including the strategy (outline of tasks) you will use to achieve the desired solution. You should also thoroughly discuss what the intended solution will be for this problem. Questions to ask yourself when writing this section:\n",
    "- _Is the problem statement clearly defined? Will the reader understand what you are expecting to solve?_\n",
    "- _Have you thoroughly discussed how you will attempt to solve the problem?_\n",
    "- _Is an anticipated solution clearly defined? Will the reader understand what results you are looking for?_\n"
   ]
  },
  {
   "cell_type": "markdown",
   "metadata": {},
   "source": [
    "The problem to be solved in this project is the problem of opportunity scoring. There is historical data that shows which opportunities eventually convert to become accounts with annually recurring revenue. BizOps practitioners will use this historical data to make judgements on what active oppoortunities are most likely to convert by comparing their features with the features of examples from the historical data.\n",
    "\n",
    "This project seeks to build a machine learning model that will make these judgements.\n",
    "\n",
    "To build that model, this project will work through the following steps:\n",
    "\n",
    "* Establish and prepare evaluation metrics\n",
    "* Explore the dataset and establish necessary pre-processing steps\n",
    "* Establish a benchmark using a dummy classifier\n",
    "* Carry out pre-processing of the dataset\n",
    "* Implement a number of models using grid search to establish the best hyperparameters\n",
    "* Train and validate the models on the dataset\n",
    "* Refine the model that looks to have the best performance\n",
    "* Evaluate the performance of the model on the dataset against the benchmark and establish whether or not the model is viable for further use\n",
    "\n",
    "The model will be deemed acceptable for furhter use if the predictions it makes are better than those returned by the dummy classifier.\n"
   ]
  },
  {
   "cell_type": "markdown",
   "metadata": {},
   "source": [
    "### Metrics"
   ]
  },
  {
   "cell_type": "markdown",
   "metadata": {},
   "source": [
    "In this section, you will need to clearly define the metrics or calculations you will use to measure performance of a model or result in your project. These calculations and metrics should be justified based on the characteristics of the problem and problem domain. Questions to ask yourself when writing this section:\n",
    "- _Are the metrics you’ve chosen to measure the performance of your models clearly discussed and defined?_\n",
    "- _Have you provided reasonable justification for the metrics chosen based on the problem and solution?_\n"
   ]
  },
  {
   "cell_type": "markdown",
   "metadata": {},
   "source": [
    "Since this project aims to solve a classification problem, I expect the F1 Score metric will provide suitable evaluation of the performance of the benchmark and solution models.\n",
    "\n",
    "The F1 Score will provide a numeric means of judging the performance that can help more definiteively assess the performance of final model and ascertain whether or not it can be used further for opportunity scoring. The F1 Score metric should help give a good balance between _recall_ and _precision_ since it is unlikely the dataset will have an equal of number of samples in each of the two classes."
   ]
  },
  {
   "cell_type": "markdown",
   "metadata": {},
   "source": [
    "## 2. Analysis"
   ]
  },
  {
   "cell_type": "markdown",
   "metadata": {},
   "source": [
    "### Data Exploration"
   ]
  },
  {
   "cell_type": "markdown",
   "metadata": {},
   "source": [
    "In this section, you will be expected to analyze the data you are using for the problem. This data can either be in the form of a dataset (or datasets), input data (or input files), or even an environment. The type of data should be thoroughly described and, if possible, have basic statistics and information presented (such as discussion of input features or defining characteristics about the input or environment). Any abnormalities or interesting qualities about the data that may need to be addressed have been identified (such as features that need to be transformed or the possibility of outliers). Questions to ask yourself when writing this section:\n",
    "- _If a dataset is present for this problem, have you thoroughly discussed certain features about the dataset? Has a data sample been provided to the reader?_\n",
    "- _If a dataset is present for this problem, are statistics about the dataset calculated and reported? Have any relevant results from this calculation been discussed?_\n",
    "- _If a dataset is **not** present for this problem, has discussion been made about the input space or input data for your problem?_\n",
    "- _Are there any abnormalities or characteristics about the input space or dataset that need to be addressed? (categorical variables, missing values, outliers, etc.)_\n",
    "\n"
   ]
  },
  {
   "cell_type": "code",
   "execution_count": 1,
   "metadata": {},
   "outputs": [],
   "source": [
    "# Let's load up our std libraries and start having some fun\n",
    "\n",
    "import pandas as pd\n",
    "import matplotlib\n",
    "import numpy as np\n",
    "import matplotlib.pyplot as plt\n",
    "%matplotlib inline\n",
    "\n",
    "# Set up some necessary constants\n",
    "RANDOM_SEED = 42\n",
    "K_FOLDS = 10"
   ]
  },
  {
   "cell_type": "code",
   "execution_count": 78,
   "metadata": {},
   "outputs": [
    {
     "data": {
      "text/html": [
       "<div>\n",
       "<style scoped>\n",
       "    .dataframe tbody tr th:only-of-type {\n",
       "        vertical-align: middle;\n",
       "    }\n",
       "\n",
       "    .dataframe tbody tr th {\n",
       "        vertical-align: top;\n",
       "    }\n",
       "\n",
       "    .dataframe thead th {\n",
       "        text-align: right;\n",
       "    }\n",
       "</style>\n",
       "<table border=\"1\" class=\"dataframe\">\n",
       "  <thead>\n",
       "    <tr style=\"text-align: right;\">\n",
       "      <th></th>\n",
       "      <th>Labels</th>\n",
       "      <th>Name</th>\n",
       "      <th>CreatedDate</th>\n",
       "      <th>CloseDate</th>\n",
       "      <th>Amount</th>\n",
       "      <th>StageName</th>\n",
       "      <th>Probability</th>\n",
       "      <th>Type</th>\n",
       "      <th>AccountId</th>\n",
       "      <th>Account_Region__c</th>\n",
       "      <th>...</th>\n",
       "      <th>What_will_developers_need_to_succeed__c</th>\n",
       "      <th>Who_cares_about_it__c</th>\n",
       "      <th>Who_is_leading_the_sale__c</th>\n",
       "      <th>Who_is_the_competition__c</th>\n",
       "      <th>Who_needs_to_be_convinced_of_what_for_se__c</th>\n",
       "      <th>Why_does_this_opp_merit_more_investment__c</th>\n",
       "      <th>Why_should_the_customer_change__c</th>\n",
       "      <th>Why_should_they_work_with_MuleSoft__c</th>\n",
       "      <th>Winning_Competitor__c</th>\n",
       "      <th>Id.1</th>\n",
       "    </tr>\n",
       "  </thead>\n",
       "  <tbody>\n",
       "    <tr>\n",
       "      <th>4560</th>\n",
       "      <td>0063400001BxeAnAAJ</td>\n",
       "      <td>Defence Health-Transformation</td>\n",
       "      <td>2018-06-15 04:31:08</td>\n",
       "      <td>2019-04-26</td>\n",
       "      <td>83057.00</td>\n",
       "      <td>1. ID Business Initiative</td>\n",
       "      <td>10.0</td>\n",
       "      <td>New Business</td>\n",
       "      <td>0013400001QpRubAAF</td>\n",
       "      <td>ANZ</td>\n",
       "      <td>...</td>\n",
       "      <td>NaN</td>\n",
       "      <td>The board</td>\n",
       "      <td>NaN</td>\n",
       "      <td>Mule ESB Community;Microsoft;Custom Application</td>\n",
       "      <td>NaN</td>\n",
       "      <td>Currently undergoing, complete transformation</td>\n",
       "      <td>NaN</td>\n",
       "      <td>NaN</td>\n",
       "      <td>NaN</td>\n",
       "      <td>0063400001BxeAnAAJ</td>\n",
       "    </tr>\n",
       "    <tr>\n",
       "      <th>3763</th>\n",
       "      <td>0063400001CCo6nAAD</td>\n",
       "      <td>Schneider Electric- SF Lead pass 2</td>\n",
       "      <td>2018-07-10 15:51:51</td>\n",
       "      <td>2018-09-30</td>\n",
       "      <td>1.00</td>\n",
       "      <td>0. Sales Qualified Lead</td>\n",
       "      <td>0.0</td>\n",
       "      <td>New Business</td>\n",
       "      <td>0018000000lrscfAAA</td>\n",
       "      <td>SE</td>\n",
       "      <td>...</td>\n",
       "      <td>NaN</td>\n",
       "      <td>NaN</td>\n",
       "      <td>NaN</td>\n",
       "      <td>NaN</td>\n",
       "      <td>NaN</td>\n",
       "      <td>NaN</td>\n",
       "      <td>NaN</td>\n",
       "      <td>NaN</td>\n",
       "      <td>NaN</td>\n",
       "      <td>0063400001CCo6nAAD</td>\n",
       "    </tr>\n",
       "    <tr>\n",
       "      <th>5126</th>\n",
       "      <td>0063400001CTbHAAA1</td>\n",
       "      <td>Belk - legacy mod - Platform</td>\n",
       "      <td>2018-07-26 19:45:54</td>\n",
       "      <td>2019-01-18</td>\n",
       "      <td>157857.00</td>\n",
       "      <td>1. ID Business Initiative</td>\n",
       "      <td>10.0</td>\n",
       "      <td>New Business</td>\n",
       "      <td>00180000016dRHgAAM</td>\n",
       "      <td>South</td>\n",
       "      <td>...</td>\n",
       "      <td>NaN</td>\n",
       "      <td>NaN</td>\n",
       "      <td>NaN</td>\n",
       "      <td>NaN</td>\n",
       "      <td>NaN</td>\n",
       "      <td>legcay mod initiaitve��&lt;br&gt;&lt;br&gt;large spend on ...</td>\n",
       "      <td>NaN</td>\n",
       "      <td>NaN</td>\n",
       "      <td>NaN</td>\n",
       "      <td>0063400001CTbHAAA1</td>\n",
       "    </tr>\n",
       "    <tr>\n",
       "      <th>4850</th>\n",
       "      <td>0063400001ByIuiAAF</td>\n",
       "      <td>Cadillac Fairview - Anypoint - 2019 Renewal</td>\n",
       "      <td>2018-06-21 21:02:57</td>\n",
       "      <td>2019-06-29</td>\n",
       "      <td>104906.41</td>\n",
       "      <td>1. Waiting to contact</td>\n",
       "      <td>75.0</td>\n",
       "      <td>Renewal</td>\n",
       "      <td>0018000001C8A5QAAV</td>\n",
       "      <td>North</td>\n",
       "      <td>...</td>\n",
       "      <td>NaN</td>\n",
       "      <td>NaN</td>\n",
       "      <td>NaN</td>\n",
       "      <td>NaN</td>\n",
       "      <td>NaN</td>\n",
       "      <td>NaN</td>\n",
       "      <td>NaN</td>\n",
       "      <td>NaN</td>\n",
       "      <td>NaN</td>\n",
       "      <td>0063400001ByIuiAAF</td>\n",
       "    </tr>\n",
       "    <tr>\n",
       "      <th>2336</th>\n",
       "      <td>0063400001CTkNjAAL</td>\n",
       "      <td>Training</td>\n",
       "      <td>2018-08-03 13:49:22</td>\n",
       "      <td>2018-08-15</td>\n",
       "      <td>11238.75</td>\n",
       "      <td>Closed Won</td>\n",
       "      <td>100.0</td>\n",
       "      <td>Add-On Business</td>\n",
       "      <td>0018000000dfvKiAAI</td>\n",
       "      <td>East</td>\n",
       "      <td>...</td>\n",
       "      <td>NaN</td>\n",
       "      <td>NaN</td>\n",
       "      <td>NaN</td>\n",
       "      <td>NaN</td>\n",
       "      <td>NaN</td>\n",
       "      <td>NaN</td>\n",
       "      <td>NaN</td>\n",
       "      <td>NaN</td>\n",
       "      <td>NaN</td>\n",
       "      <td>0063400001CTkNjAAL</td>\n",
       "    </tr>\n",
       "  </tbody>\n",
       "</table>\n",
       "<p>5 rows × 471 columns</p>\n",
       "</div>"
      ],
      "text/plain": [
       "                  Labels                                         Name  \\\n",
       "4560  0063400001BxeAnAAJ                Defence Health-Transformation   \n",
       "3763  0063400001CCo6nAAD           Schneider Electric- SF Lead pass 2   \n",
       "5126  0063400001CTbHAAA1                 Belk - legacy mod - Platform   \n",
       "4850  0063400001ByIuiAAF  Cadillac Fairview - Anypoint - 2019 Renewal   \n",
       "2336  0063400001CTkNjAAL                                     Training   \n",
       "\n",
       "              CreatedDate   CloseDate     Amount                  StageName  \\\n",
       "4560  2018-06-15 04:31:08  2019-04-26   83057.00  1. ID Business Initiative   \n",
       "3763  2018-07-10 15:51:51  2018-09-30       1.00    0. Sales Qualified Lead   \n",
       "5126  2018-07-26 19:45:54  2019-01-18  157857.00  1. ID Business Initiative   \n",
       "4850  2018-06-21 21:02:57  2019-06-29  104906.41      1. Waiting to contact   \n",
       "2336  2018-08-03 13:49:22  2018-08-15   11238.75                 Closed Won   \n",
       "\n",
       "      Probability             Type           AccountId Account_Region__c  \\\n",
       "4560         10.0     New Business  0013400001QpRubAAF               ANZ   \n",
       "3763          0.0     New Business  0018000000lrscfAAA                SE   \n",
       "5126         10.0     New Business  00180000016dRHgAAM             South   \n",
       "4850         75.0          Renewal  0018000001C8A5QAAV             North   \n",
       "2336        100.0  Add-On Business  0018000000dfvKiAAI              East   \n",
       "\n",
       "             ...         What_will_developers_need_to_succeed__c  \\\n",
       "4560         ...                                             NaN   \n",
       "3763         ...                                             NaN   \n",
       "5126         ...                                             NaN   \n",
       "4850         ...                                             NaN   \n",
       "2336         ...                                             NaN   \n",
       "\n",
       "     Who_cares_about_it__c Who_is_leading_the_sale__c  \\\n",
       "4560             The board                        NaN   \n",
       "3763                   NaN                        NaN   \n",
       "5126                   NaN                        NaN   \n",
       "4850                   NaN                        NaN   \n",
       "2336                   NaN                        NaN   \n",
       "\n",
       "                            Who_is_the_competition__c  \\\n",
       "4560  Mule ESB Community;Microsoft;Custom Application   \n",
       "3763                                              NaN   \n",
       "5126                                              NaN   \n",
       "4850                                              NaN   \n",
       "2336                                              NaN   \n",
       "\n",
       "      Who_needs_to_be_convinced_of_what_for_se__c  \\\n",
       "4560                                          NaN   \n",
       "3763                                          NaN   \n",
       "5126                                          NaN   \n",
       "4850                                          NaN   \n",
       "2336                                          NaN   \n",
       "\n",
       "             Why_does_this_opp_merit_more_investment__c  \\\n",
       "4560      Currently undergoing, complete transformation   \n",
       "3763                                                NaN   \n",
       "5126  legcay mod initiaitve��<br><br>large spend on ...   \n",
       "4850                                                NaN   \n",
       "2336                                                NaN   \n",
       "\n",
       "      Why_should_the_customer_change__c  \\\n",
       "4560                                NaN   \n",
       "3763                                NaN   \n",
       "5126                                NaN   \n",
       "4850                                NaN   \n",
       "2336                                NaN   \n",
       "\n",
       "      Why_should_they_work_with_MuleSoft__c  Winning_Competitor__c  \\\n",
       "4560                                    NaN                    NaN   \n",
       "3763                                    NaN                    NaN   \n",
       "5126                                    NaN                    NaN   \n",
       "4850                                    NaN                    NaN   \n",
       "2336                                    NaN                    NaN   \n",
       "\n",
       "                    Id.1  \n",
       "4560  0063400001BxeAnAAJ  \n",
       "3763  0063400001CCo6nAAD  \n",
       "5126  0063400001CTbHAAA1  \n",
       "4850  0063400001ByIuiAAF  \n",
       "2336  0063400001CTkNjAAL  \n",
       "\n",
       "[5 rows x 471 columns]"
      ]
     },
     "metadata": {},
     "output_type": "display_data"
    },
    {
     "name": "stdout",
     "output_type": "stream",
     "text": [
      "There are 5809 rows and 471 columns in the dataset.\n"
     ]
    }
   ],
   "source": [
    "raw_opportunities_data = pd.read_csv('data/csv/DataStore_query-1536516138031.json.csv', low_memory=False)\n",
    "display(raw_opportunities_data.sample(5))\n",
    "print('There are {} rows and {} columns in the dataset.'.format(raw_opportunities_data.shape[0], raw_opportunities_data.shape[1]))"
   ]
  },
  {
   "cell_type": "code",
   "execution_count": 81,
   "metadata": {},
   "outputs": [
    {
     "data": {
      "text/html": [
       "<div>\n",
       "<style scoped>\n",
       "    .dataframe tbody tr th:only-of-type {\n",
       "        vertical-align: middle;\n",
       "    }\n",
       "\n",
       "    .dataframe tbody tr th {\n",
       "        vertical-align: top;\n",
       "    }\n",
       "\n",
       "    .dataframe thead th {\n",
       "        text-align: right;\n",
       "    }\n",
       "</style>\n",
       "<table border=\"1\" class=\"dataframe\">\n",
       "  <thead>\n",
       "    <tr style=\"text-align: right;\">\n",
       "      <th></th>\n",
       "      <th>Amount</th>\n",
       "      <th>Probability</th>\n",
       "      <th>Actions_Since_Last_Week__c</th>\n",
       "      <th>Actual_Launch_Date__c</th>\n",
       "      <th>ACV__c</th>\n",
       "      <th>Additional_SC_notes__c</th>\n",
       "      <th>Add_On_Business_Subscription__c</th>\n",
       "      <th>Any_outstanding_issues__c</th>\n",
       "      <th>Anypoint_Username__c</th>\n",
       "      <th>Application_Server_s__c</th>\n",
       "      <th>...</th>\n",
       "      <th>TargetInstallationDate__c</th>\n",
       "      <th>Target_Launch_Date__c</th>\n",
       "      <th>The_Power_of_One__c</th>\n",
       "      <th>Total_List_Discount__c</th>\n",
       "      <th>Total_List_Price__c</th>\n",
       "      <th>Training_Amount__c</th>\n",
       "      <th>Uploaded_Evidence_of_Delivery_to_Account__c</th>\n",
       "      <th>Value_MuleSoft_generates__c</th>\n",
       "      <th>Weighted_ACV_Amount__c</th>\n",
       "      <th>Weighted_Services_Amount__c</th>\n",
       "    </tr>\n",
       "  </thead>\n",
       "  <tbody>\n",
       "    <tr>\n",
       "      <th>count</th>\n",
       "      <td>5.260000e+03</td>\n",
       "      <td>5809.000000</td>\n",
       "      <td>0.0</td>\n",
       "      <td>0.0</td>\n",
       "      <td>5.809000e+03</td>\n",
       "      <td>0.0</td>\n",
       "      <td>1.521000e+03</td>\n",
       "      <td>0.0</td>\n",
       "      <td>0.0</td>\n",
       "      <td>0.0</td>\n",
       "      <td>...</td>\n",
       "      <td>0.0</td>\n",
       "      <td>0.0</td>\n",
       "      <td>5809.0</td>\n",
       "      <td>4.477000e+03</td>\n",
       "      <td>5.809000e+03</td>\n",
       "      <td>5809.000000</td>\n",
       "      <td>0.0</td>\n",
       "      <td>4.800000e+01</td>\n",
       "      <td>5.809000e+03</td>\n",
       "      <td>5809.000000</td>\n",
       "    </tr>\n",
       "    <tr>\n",
       "      <th>mean</th>\n",
       "      <td>1.325405e+05</td>\n",
       "      <td>35.610432</td>\n",
       "      <td>NaN</td>\n",
       "      <td>NaN</td>\n",
       "      <td>7.524562e+04</td>\n",
       "      <td>NaN</td>\n",
       "      <td>7.924366e+04</td>\n",
       "      <td>NaN</td>\n",
       "      <td>NaN</td>\n",
       "      <td>NaN</td>\n",
       "      <td>...</td>\n",
       "      <td>NaN</td>\n",
       "      <td>NaN</td>\n",
       "      <td>1.0</td>\n",
       "      <td>-4.286222e+05</td>\n",
       "      <td>1.213588e+05</td>\n",
       "      <td>756.935457</td>\n",
       "      <td>NaN</td>\n",
       "      <td>7.109516e+06</td>\n",
       "      <td>1.356769e+04</td>\n",
       "      <td>5237.646486</td>\n",
       "    </tr>\n",
       "    <tr>\n",
       "      <th>std</th>\n",
       "      <td>2.277824e+05</td>\n",
       "      <td>39.285070</td>\n",
       "      <td>NaN</td>\n",
       "      <td>NaN</td>\n",
       "      <td>1.296853e+05</td>\n",
       "      <td>NaN</td>\n",
       "      <td>1.767058e+05</td>\n",
       "      <td>NaN</td>\n",
       "      <td>NaN</td>\n",
       "      <td>NaN</td>\n",
       "      <td>...</td>\n",
       "      <td>NaN</td>\n",
       "      <td>NaN</td>\n",
       "      <td>0.0</td>\n",
       "      <td>1.338227e+07</td>\n",
       "      <td>2.942839e+05</td>\n",
       "      <td>5201.057655</td>\n",
       "      <td>NaN</td>\n",
       "      <td>1.315392e+07</td>\n",
       "      <td>4.939383e+04</td>\n",
       "      <td>27154.648216</td>\n",
       "    </tr>\n",
       "    <tr>\n",
       "      <th>min</th>\n",
       "      <td>-1.425722e+06</td>\n",
       "      <td>0.000000</td>\n",
       "      <td>NaN</td>\n",
       "      <td>NaN</td>\n",
       "      <td>-1.115921e+06</td>\n",
       "      <td>NaN</td>\n",
       "      <td>0.000000e+00</td>\n",
       "      <td>NaN</td>\n",
       "      <td>NaN</td>\n",
       "      <td>NaN</td>\n",
       "      <td>...</td>\n",
       "      <td>NaN</td>\n",
       "      <td>NaN</td>\n",
       "      <td>1.0</td>\n",
       "      <td>-5.249999e+08</td>\n",
       "      <td>-1.114850e+05</td>\n",
       "      <td>0.000000</td>\n",
       "      <td>NaN</td>\n",
       "      <td>2.079070e+05</td>\n",
       "      <td>-1.115921e+06</td>\n",
       "      <td>-309801.600000</td>\n",
       "    </tr>\n",
       "    <tr>\n",
       "      <th>25%</th>\n",
       "      <td>1.800000e+04</td>\n",
       "      <td>0.000000</td>\n",
       "      <td>NaN</td>\n",
       "      <td>NaN</td>\n",
       "      <td>0.000000e+00</td>\n",
       "      <td>NaN</td>\n",
       "      <td>0.000000e+00</td>\n",
       "      <td>NaN</td>\n",
       "      <td>NaN</td>\n",
       "      <td>NaN</td>\n",
       "      <td>...</td>\n",
       "      <td>NaN</td>\n",
       "      <td>NaN</td>\n",
       "      <td>1.0</td>\n",
       "      <td>-1.000000e+00</td>\n",
       "      <td>1.500000e+03</td>\n",
       "      <td>0.000000</td>\n",
       "      <td>NaN</td>\n",
       "      <td>3.000000e+06</td>\n",
       "      <td>0.000000e+00</td>\n",
       "      <td>0.000000</td>\n",
       "    </tr>\n",
       "    <tr>\n",
       "      <th>50%</th>\n",
       "      <td>8.305700e+04</td>\n",
       "      <td>10.000000</td>\n",
       "      <td>NaN</td>\n",
       "      <td>NaN</td>\n",
       "      <td>1.710000e+04</td>\n",
       "      <td>NaN</td>\n",
       "      <td>2.311282e+04</td>\n",
       "      <td>NaN</td>\n",
       "      <td>NaN</td>\n",
       "      <td>NaN</td>\n",
       "      <td>...</td>\n",
       "      <td>NaN</td>\n",
       "      <td>NaN</td>\n",
       "      <td>1.0</td>\n",
       "      <td>0.000000e+00</td>\n",
       "      <td>8.305700e+04</td>\n",
       "      <td>0.000000</td>\n",
       "      <td>NaN</td>\n",
       "      <td>4.639848e+06</td>\n",
       "      <td>0.000000e+00</td>\n",
       "      <td>0.000000</td>\n",
       "    </tr>\n",
       "    <tr>\n",
       "      <th>75%</th>\n",
       "      <td>1.711035e+05</td>\n",
       "      <td>75.000000</td>\n",
       "      <td>NaN</td>\n",
       "      <td>NaN</td>\n",
       "      <td>1.150000e+05</td>\n",
       "      <td>NaN</td>\n",
       "      <td>8.550000e+04</td>\n",
       "      <td>NaN</td>\n",
       "      <td>NaN</td>\n",
       "      <td>NaN</td>\n",
       "      <td>...</td>\n",
       "      <td>NaN</td>\n",
       "      <td>NaN</td>\n",
       "      <td>1.0</td>\n",
       "      <td>2.000000e+01</td>\n",
       "      <td>1.578570e+05</td>\n",
       "      <td>0.000000</td>\n",
       "      <td>NaN</td>\n",
       "      <td>6.800000e+06</td>\n",
       "      <td>1.401503e+04</td>\n",
       "      <td>0.000000</td>\n",
       "    </tr>\n",
       "    <tr>\n",
       "      <th>max</th>\n",
       "      <td>5.250000e+06</td>\n",
       "      <td>100.000000</td>\n",
       "      <td>NaN</td>\n",
       "      <td>NaN</td>\n",
       "      <td>2.500000e+06</td>\n",
       "      <td>NaN</td>\n",
       "      <td>2.500000e+06</td>\n",
       "      <td>NaN</td>\n",
       "      <td>NaN</td>\n",
       "      <td>NaN</td>\n",
       "      <td>...</td>\n",
       "      <td>NaN</td>\n",
       "      <td>NaN</td>\n",
       "      <td>1.0</td>\n",
       "      <td>5.940000e+02</td>\n",
       "      <td>1.152074e+07</td>\n",
       "      <td>166725.000000</td>\n",
       "      <td>NaN</td>\n",
       "      <td>6.800000e+07</td>\n",
       "      <td>1.500525e+06</td>\n",
       "      <td>562400.000000</td>\n",
       "    </tr>\n",
       "  </tbody>\n",
       "</table>\n",
       "<p>8 rows × 166 columns</p>\n",
       "</div>"
      ],
      "text/plain": [
       "             Amount  Probability  Actions_Since_Last_Week__c  \\\n",
       "count  5.260000e+03  5809.000000                         0.0   \n",
       "mean   1.325405e+05    35.610432                         NaN   \n",
       "std    2.277824e+05    39.285070                         NaN   \n",
       "min   -1.425722e+06     0.000000                         NaN   \n",
       "25%    1.800000e+04     0.000000                         NaN   \n",
       "50%    8.305700e+04    10.000000                         NaN   \n",
       "75%    1.711035e+05    75.000000                         NaN   \n",
       "max    5.250000e+06   100.000000                         NaN   \n",
       "\n",
       "       Actual_Launch_Date__c        ACV__c  Additional_SC_notes__c  \\\n",
       "count                    0.0  5.809000e+03                     0.0   \n",
       "mean                     NaN  7.524562e+04                     NaN   \n",
       "std                      NaN  1.296853e+05                     NaN   \n",
       "min                      NaN -1.115921e+06                     NaN   \n",
       "25%                      NaN  0.000000e+00                     NaN   \n",
       "50%                      NaN  1.710000e+04                     NaN   \n",
       "75%                      NaN  1.150000e+05                     NaN   \n",
       "max                      NaN  2.500000e+06                     NaN   \n",
       "\n",
       "       Add_On_Business_Subscription__c  Any_outstanding_issues__c  \\\n",
       "count                     1.521000e+03                        0.0   \n",
       "mean                      7.924366e+04                        NaN   \n",
       "std                       1.767058e+05                        NaN   \n",
       "min                       0.000000e+00                        NaN   \n",
       "25%                       0.000000e+00                        NaN   \n",
       "50%                       2.311282e+04                        NaN   \n",
       "75%                       8.550000e+04                        NaN   \n",
       "max                       2.500000e+06                        NaN   \n",
       "\n",
       "       Anypoint_Username__c  Application_Server_s__c  \\\n",
       "count                   0.0                      0.0   \n",
       "mean                    NaN                      NaN   \n",
       "std                     NaN                      NaN   \n",
       "min                     NaN                      NaN   \n",
       "25%                     NaN                      NaN   \n",
       "50%                     NaN                      NaN   \n",
       "75%                     NaN                      NaN   \n",
       "max                     NaN                      NaN   \n",
       "\n",
       "                  ...               TargetInstallationDate__c  \\\n",
       "count             ...                                     0.0   \n",
       "mean              ...                                     NaN   \n",
       "std               ...                                     NaN   \n",
       "min               ...                                     NaN   \n",
       "25%               ...                                     NaN   \n",
       "50%               ...                                     NaN   \n",
       "75%               ...                                     NaN   \n",
       "max               ...                                     NaN   \n",
       "\n",
       "       Target_Launch_Date__c  The_Power_of_One__c  Total_List_Discount__c  \\\n",
       "count                    0.0               5809.0            4.477000e+03   \n",
       "mean                     NaN                  1.0           -4.286222e+05   \n",
       "std                      NaN                  0.0            1.338227e+07   \n",
       "min                      NaN                  1.0           -5.249999e+08   \n",
       "25%                      NaN                  1.0           -1.000000e+00   \n",
       "50%                      NaN                  1.0            0.000000e+00   \n",
       "75%                      NaN                  1.0            2.000000e+01   \n",
       "max                      NaN                  1.0            5.940000e+02   \n",
       "\n",
       "       Total_List_Price__c  Training_Amount__c  \\\n",
       "count         5.809000e+03         5809.000000   \n",
       "mean          1.213588e+05          756.935457   \n",
       "std           2.942839e+05         5201.057655   \n",
       "min          -1.114850e+05            0.000000   \n",
       "25%           1.500000e+03            0.000000   \n",
       "50%           8.305700e+04            0.000000   \n",
       "75%           1.578570e+05            0.000000   \n",
       "max           1.152074e+07       166725.000000   \n",
       "\n",
       "       Uploaded_Evidence_of_Delivery_to_Account__c  \\\n",
       "count                                          0.0   \n",
       "mean                                           NaN   \n",
       "std                                            NaN   \n",
       "min                                            NaN   \n",
       "25%                                            NaN   \n",
       "50%                                            NaN   \n",
       "75%                                            NaN   \n",
       "max                                            NaN   \n",
       "\n",
       "       Value_MuleSoft_generates__c  Weighted_ACV_Amount__c  \\\n",
       "count                 4.800000e+01            5.809000e+03   \n",
       "mean                  7.109516e+06            1.356769e+04   \n",
       "std                   1.315392e+07            4.939383e+04   \n",
       "min                   2.079070e+05           -1.115921e+06   \n",
       "25%                   3.000000e+06            0.000000e+00   \n",
       "50%                   4.639848e+06            0.000000e+00   \n",
       "75%                   6.800000e+06            1.401503e+04   \n",
       "max                   6.800000e+07            1.500525e+06   \n",
       "\n",
       "       Weighted_Services_Amount__c  \n",
       "count                  5809.000000  \n",
       "mean                   5237.646486  \n",
       "std                   27154.648216  \n",
       "min                 -309801.600000  \n",
       "25%                       0.000000  \n",
       "50%                       0.000000  \n",
       "75%                       0.000000  \n",
       "max                  562400.000000  \n",
       "\n",
       "[8 rows x 166 columns]"
      ]
     },
     "execution_count": 81,
     "metadata": {},
     "output_type": "execute_result"
    }
   ],
   "source": [
    "# naively get stats\n",
    "raw_opportunities_data.describe()"
   ]
  },
  {
   "cell_type": "markdown",
   "metadata": {},
   "source": [
    "It appears the dataset contains a number of cells that are NaN or a data type that is unsuitable for using in an ML model. These will need to be removed during the project's data preprocessing step.\n",
    "\n",
    "While this will reduce the number of features to an extent, once the remaining features are vectorized it is likely the total number will grow very large. To combat this, a feature selection step should be included during data preprocessing."
   ]
  },
  {
   "cell_type": "code",
   "execution_count": 80,
   "metadata": {},
   "outputs": [
    {
     "data": {
      "text/html": [
       "<div>\n",
       "<style scoped>\n",
       "    .dataframe tbody tr th:only-of-type {\n",
       "        vertical-align: middle;\n",
       "    }\n",
       "\n",
       "    .dataframe tbody tr th {\n",
       "        vertical-align: top;\n",
       "    }\n",
       "\n",
       "    .dataframe thead th {\n",
       "        text-align: right;\n",
       "    }\n",
       "</style>\n",
       "<table border=\"1\" class=\"dataframe\">\n",
       "  <thead>\n",
       "    <tr style=\"text-align: right;\">\n",
       "      <th></th>\n",
       "      <th>Data type</th>\n",
       "      <th>Count</th>\n",
       "    </tr>\n",
       "  </thead>\n",
       "  <tbody>\n",
       "    <tr>\n",
       "      <th>0</th>\n",
       "      <td>bool</td>\n",
       "      <td>54</td>\n",
       "    </tr>\n",
       "    <tr>\n",
       "      <th>1</th>\n",
       "      <td>int64</td>\n",
       "      <td>2</td>\n",
       "    </tr>\n",
       "    <tr>\n",
       "      <th>2</th>\n",
       "      <td>float64</td>\n",
       "      <td>164</td>\n",
       "    </tr>\n",
       "    <tr>\n",
       "      <th>3</th>\n",
       "      <td>object</td>\n",
       "      <td>251</td>\n",
       "    </tr>\n",
       "  </tbody>\n",
       "</table>\n",
       "</div>"
      ],
      "text/plain": [
       "  Data type  Count\n",
       "0      bool     54\n",
       "1     int64      2\n",
       "2   float64    164\n",
       "3    object    251"
      ]
     },
     "metadata": {},
     "output_type": "display_data"
    },
    {
     "data": {
      "text/plain": [
       "<matplotlib.axes._subplots.AxesSubplot at 0x11d525748>"
      ]
     },
     "execution_count": 80,
     "metadata": {},
     "output_type": "execute_result"
    },
    {
     "data": {
      "image/png": "[encoded data removed]",
      "text/plain": [
       "<matplotlib.figure.Figure at 0x1136c63c8>"
      ]
     },
     "metadata": {},
     "output_type": "display_data"
    }
   ],
   "source": [
    "import seaborn as sns\n",
    "import matplotlib.pyplot as plt\n",
    "\n",
    "data_types = raw_opportunities_data.columns.to_series().groupby(raw_opportunities_data.dtypes).groups\n",
    "data_types_list = []\n",
    "\n",
    "for t in data_types:\n",
    "    data_types_list.append([str(t), len(data_types[t])])\n",
    "\n",
    "data_types = pd.DataFrame(data_types_list, columns=['Data type','Count'])\n",
    "display(data_types)\n",
    "sns.set(style=\"whitegrid\")\n",
    "sns.set_color_codes(\"pastel\")\n",
    "sns.barplot(x=\"Count\", y=\"Data type\", data=data_types)"
   ]
  },
  {
   "cell_type": "markdown",
   "metadata": {},
   "source": [
    "Of the 471 columns in the dataset, most are of the `object` data type. A number of these columns are most likely not useful and visual inspection of the data will be necessary to establish which of these categorical features need to be dropped from the dataset. The rest of the `boolean` and `object` type categorical features will then be vectorized before they go forward into feature selection."
   ]
  },
  {
   "cell_type": "code",
   "execution_count": 108,
   "metadata": {},
   "outputs": [
    {
     "data": {
      "text/plain": [
       "Labels                                         False\n",
       "Name                                           False\n",
       "CreatedDate                                    False\n",
       "CloseDate                                      False\n",
       "Amount                                          True\n",
       "StageName                                      False\n",
       "Probability                                    False\n",
       "Type                                            True\n",
       "AccountId                                      False\n",
       "Account_Region__c                               True\n",
       "Account_Theater__c                              True\n",
       "Actions_Next_Week_with_Owners__c                True\n",
       "Actions_Owners__c                               True\n",
       "Actions_Since_Last_Week__c                      True\n",
       "Actual_Launch_Date__c                           True\n",
       "ACV__c                                         False\n",
       "Add_Billing_Contact__c                         False\n",
       "Added_Billing_Address__c                       False\n",
       "Added_Product_Dates__c                         False\n",
       "Additional_Information_Comments__c              True\n",
       "Additional_partner_info_optional__c             True\n",
       "Additional_SC_notes__c                          True\n",
       "Addl_background_on_contact__c                   True\n",
       "Addl_context_on_biz_outcome_optional__c         True\n",
       "Addl_info_re_MuleSoft_impact_optional__c        True\n",
       "Addnt_detail_on_project_resourcing__c           True\n",
       "Add_On_Business_Subscription__c                 True\n",
       "Add_On_Type__c                                  True\n",
       "AE_Connect_Completed__c                        False\n",
       "AE_Connect_Scheduled__c                        False\n",
       "                                               ...  \n",
       "What_are_partner_s_goals_for_this_acct__c       True\n",
       "What_are_the_consequence_of_waiting__c          True\n",
       "What_are_use_cases_projects_Be_specific__c      True\n",
       "What_business_outcome_will_it_enable__c         True\n",
       "What_business_problem_are_they_solving__c       True\n",
       "What_company_integration_strategy__c            True\n",
       "What_did_we_learn_on_the_intro_call__c          True\n",
       "What_does_prospect_think_problem_is__c          True\n",
       "What_initiatives_will_we_support__c             True\n",
       "What_is_our_partner_engagement_strategy__c      True\n",
       "What_is_our_plan_for_exec_engagement__c         True\n",
       "What_is_the_business_need_initiative__c         True\n",
       "What_is_the_funding_process__c                  True\n",
       "What_is_the_plan_to_convince_them__c            True\n",
       "What_is_the_selection_process__c                True\n",
       "What_is_the_use_case_s__c                       True\n",
       "What_pain_areas_should_we_dig_deeper_on__c      True\n",
       "What_partner_s_does_the_cust_prefer__c          True\n",
       "What_products_are_they_evaluating__c            True\n",
       "What_upfront_contract_was_set_for_call__c       True\n",
       "What_will_developers_need_to_succeed__c         True\n",
       "Who_cares_about_it__c                           True\n",
       "Who_is_leading_the_sale__c                      True\n",
       "Who_is_the_competition__c                       True\n",
       "Who_needs_to_be_convinced_of_what_for_se__c     True\n",
       "Why_does_this_opp_merit_more_investment__c      True\n",
       "Why_should_the_customer_change__c               True\n",
       "Why_should_they_work_with_MuleSoft__c           True\n",
       "Winning_Competitor__c                           True\n",
       "Id.1                                           False\n",
       "Length: 471, dtype: bool"
      ]
     },
     "execution_count": 108,
     "metadata": {},
     "output_type": "execute_result"
    }
   ],
   "source": [
    "raw_opportunities_data.isnull().any()"
   ]
  },
  {
   "cell_type": "markdown",
   "metadata": {},
   "source": [
    "There are a large number of columns with `null` values. If a feature has too many `null` values, it will not be useful to the final model and will be dropped. Otherwise, the `null` values will be filled using Pandas' `.fillna` method."
   ]
  },
  {
   "cell_type": "code",
   "execution_count": 75,
   "metadata": {},
   "outputs": [
    {
     "data": {
      "text/html": [
       "<div>\n",
       "<style scoped>\n",
       "    .dataframe tbody tr th:only-of-type {\n",
       "        vertical-align: middle;\n",
       "    }\n",
       "\n",
       "    .dataframe tbody tr th {\n",
       "        vertical-align: top;\n",
       "    }\n",
       "\n",
       "    .dataframe thead th {\n",
       "        text-align: right;\n",
       "    }\n",
       "</style>\n",
       "<table border=\"1\" class=\"dataframe\">\n",
       "  <thead>\n",
       "    <tr style=\"text-align: right;\">\n",
       "      <th></th>\n",
       "      <th>StageName</th>\n",
       "    </tr>\n",
       "  </thead>\n",
       "  <tbody>\n",
       "    <tr>\n",
       "      <th>count</th>\n",
       "      <td>5809</td>\n",
       "    </tr>\n",
       "    <tr>\n",
       "      <th>unique</th>\n",
       "      <td>16</td>\n",
       "    </tr>\n",
       "    <tr>\n",
       "      <th>top</th>\n",
       "      <td>1. ID Business Initiative</td>\n",
       "    </tr>\n",
       "    <tr>\n",
       "      <th>freq</th>\n",
       "      <td>1332</td>\n",
       "    </tr>\n",
       "  </tbody>\n",
       "</table>\n",
       "</div>"
      ],
      "text/plain": [
       "                        StageName\n",
       "count                        5809\n",
       "unique                         16\n",
       "top     1. ID Business Initiative\n",
       "freq                         1332"
      ]
     },
     "metadata": {},
     "output_type": "display_data"
    },
    {
     "data": {
      "text/html": [
       "<div>\n",
       "<style scoped>\n",
       "    .dataframe tbody tr th:only-of-type {\n",
       "        vertical-align: middle;\n",
       "    }\n",
       "\n",
       "    .dataframe tbody tr th {\n",
       "        vertical-align: top;\n",
       "    }\n",
       "\n",
       "    .dataframe thead th {\n",
       "        text-align: right;\n",
       "    }\n",
       "</style>\n",
       "<table border=\"1\" class=\"dataframe\">\n",
       "  <thead>\n",
       "    <tr style=\"text-align: right;\">\n",
       "      <th></th>\n",
       "      <th>StageName</th>\n",
       "    </tr>\n",
       "  </thead>\n",
       "  <tbody>\n",
       "    <tr>\n",
       "      <th>4154</th>\n",
       "      <td>Closed Lost</td>\n",
       "    </tr>\n",
       "    <tr>\n",
       "      <th>5745</th>\n",
       "      <td>1. ID Business Initiative</td>\n",
       "    </tr>\n",
       "    <tr>\n",
       "      <th>3356</th>\n",
       "      <td>1. Waiting to contact</td>\n",
       "    </tr>\n",
       "    <tr>\n",
       "      <th>1924</th>\n",
       "      <td>Closed Won</td>\n",
       "    </tr>\n",
       "    <tr>\n",
       "      <th>2833</th>\n",
       "      <td>2. Educate on MuleSoft Vision</td>\n",
       "    </tr>\n",
       "    <tr>\n",
       "      <th>2324</th>\n",
       "      <td>0. Sales Qualified Lead</td>\n",
       "    </tr>\n",
       "    <tr>\n",
       "      <th>583</th>\n",
       "      <td>Closed Won</td>\n",
       "    </tr>\n",
       "    <tr>\n",
       "      <th>2676</th>\n",
       "      <td>1. ID Business Initiative</td>\n",
       "    </tr>\n",
       "    <tr>\n",
       "      <th>4572</th>\n",
       "      <td>Closed Won</td>\n",
       "    </tr>\n",
       "    <tr>\n",
       "      <th>2007</th>\n",
       "      <td>4. Validate Solution</td>\n",
       "    </tr>\n",
       "  </tbody>\n",
       "</table>\n",
       "</div>"
      ],
      "text/plain": [
       "                          StageName\n",
       "4154                    Closed Lost\n",
       "5745      1. ID Business Initiative\n",
       "3356          1. Waiting to contact\n",
       "1924                     Closed Won\n",
       "2833  2. Educate on MuleSoft Vision\n",
       "2324        0. Sales Qualified Lead\n",
       "583                      Closed Won\n",
       "2676      1. ID Business Initiative\n",
       "4572                     Closed Won\n",
       "2007           4. Validate Solution"
      ]
     },
     "metadata": {},
     "output_type": "display_data"
    },
    {
     "data": {
      "text/plain": [
       "<matplotlib.axes._subplots.AxesSubplot at 0x10d213c88>"
      ]
     },
     "execution_count": 75,
     "metadata": {},
     "output_type": "execute_result"
    },
    {
     "data": {
      "image/png": "[encoded data removed]",
      "text/plain": [
       "<matplotlib.figure.Figure at 0x110c21f60>"
      ]
     },
     "metadata": {},
     "output_type": "display_data"
    }
   ],
   "source": [
    "display(raw_opportunities_data[['StageName']].describe())\n",
    "display(raw_opportunities_data[['StageName']].sample(10))\n",
    "pd.value_counts(raw_opportunities_data['StageName']).plot.bar()"
   ]
  },
  {
   "cell_type": "markdown",
   "metadata": {},
   "source": [
    "`StageName` is the label that this project is concerned with. As the graph shows, there are many different stage to which an opportunity can belong. This project is only concerned with two categories: 'Closed Won' and 'Closed Lost'. The dataset will be filtered to only include rows that have either of these labels.\n",
    "\n",
    "It is also clear from the above graph that there are many more `Closed Won` samples than `Closed Lost`. This makes it all the more important that randomized test and validation slices are taken from the input data when training models. It will also be important to keep this in mind when assessing performance of the model: the uneven number of samples in each class anticipates a that a model could find _recall_ success but suffer from a high rate of false positives/negatives."
   ]
  },
  {
   "cell_type": "markdown",
   "metadata": {},
   "source": [
    "### TODO :: Exploratory Visualization"
   ]
  },
  {
   "cell_type": "markdown",
   "metadata": {},
   "source": [
    "In this section, you will need to provide some form of visualization that summarizes or extracts a relevant characteristic or feature about the data. The visualization should adequately support the data being used. Discuss why this visualization was chosen and how it is relevant. Questions to ask yourself when writing this section:\n",
    "- _Have you visualized a relevant characteristic or feature about the dataset or input data?_\n",
    "- _Is the visualization thoroughly analyzed and discussed?_\n",
    "- _If a plot is provided, are the axes, title, and datum clearly defined?_\n"
   ]
  },
  {
   "cell_type": "markdown",
   "metadata": {},
   "source": [
    "### Algorithms and Techniques"
   ]
  },
  {
   "cell_type": "markdown",
   "metadata": {},
   "source": [
    "In this section, you will need to discuss the algorithms and techniques you intend to use for solving the problem. You should justify the use of each one based on the characteristics of the problem and the problem domain. Questions to ask yourself when writing this section:\n",
    "- _Are the algorithms you will use, including any default variables/parameters in the project clearly defined?_\n",
    "- _Are the techniques to be used thoroughly discussed and justified?_\n",
    "- _Is it made clear how the input data or datasets will be handled by the algorithms and techniques chosen?_\n"
   ]
  },
  {
   "cell_type": "markdown",
   "metadata": {},
   "source": [
    "A number of algorithms will be employed in this project:\n",
    "\n",
    "**Pandas**\n",
    "\n",
    "* `.dropna()`\n",
    "* `.fillna()`\n",
    "\n",
    "These utilities are used to remove null samples from the dataset.\n",
    "\n",
    "**Utilities**\n",
    "\n",
    "* `make_scorer`\n",
    "* `DummyClassifier`\n",
    "* `DictVectorizer`\n",
    "* `LabelEncoder`\n",
    "* `MaxAbsScaler`\n",
    "* `SelectKBest`\n",
    "* `train_test_split`\n",
    "* `Kfold`\n",
    "* `cross_val_score`\n",
    "* `GridSearchCV`\n",
    "\n",
    "**Classifiers**\n",
    "\n",
    "* `LogisticRegression`\n",
    "* `GaussianNB`\n",
    "* `KNeighborsClassifier`\n",
    "* `SVC`\n",
    "* `RandomForestClassifier`\n",
    "* `lgb.sklearn.LGBMClassifier`\n",
    "* `xgb.XGBClassifier`\n",
    "\n",
    "Each classifier is employed at first with it's default configuration i.e. no parameters are passed to the constructor. Each of these models are tested with k-fold cross validation scored with the **f1 score** metric. The classifier that performs best in this pass will then be reconfigured with hyper-parameters using `GridSearchCV`."
   ]
  },
  {
   "cell_type": "markdown",
   "metadata": {},
   "source": [
    "### Benchmark"
   ]
  },
  {
   "cell_type": "markdown",
   "metadata": {},
   "source": [
    "In this section, you will need to provide a clearly defined benchmark result or threshold for comparing across performances obtained by your solution. The reasoning behind the benchmark (in the case where it is not an established result) should be discussed. Questions to ask yourself when writing this section:\n",
    "- _Has some result or value been provided that acts as a benchmark for measuring performance?_\n",
    "- _Is it clear how this result or value was obtained (whether by data or by hypothesis)?_\n"
   ]
  },
  {
   "cell_type": "markdown",
   "metadata": {},
   "source": [
    "For the purposes of this project, it is sufficient to build a model that is demonstrably better than a guess. Thus, it is sufficient to use sci-kit learn's dummy classifier to build a fake model. Then, the performance of this dummy model will be measured using the same metric (**f1 score**) as will be used to asses the final model.\n",
    "\n",
    "The mean (**f1 score**) of the cross validated dummy classifier then gives a benchmark against which to judge the final model."
   ]
  },
  {
   "cell_type": "code",
   "execution_count": 2,
   "metadata": {},
   "outputs": [],
   "source": [
    "# Let's load up our std libraries and start having some fun\n",
    "\n",
    "import pandas as pd\n",
    "import matplotlib\n",
    "import numpy as np\n",
    "import matplotlib.pyplot as plt\n",
    "import utils\n",
    "%matplotlib inline\n",
    "\n",
    "# Set up some necessary constants\n",
    "SPLIT_RANDOM_SEED = 42\n",
    "DCLF_RANDOM_SEED = 42\n",
    "K_FOLD_RANDOM_SEED = 3\n",
    "K_FOLDS = 5\n",
    "K_FEATURES = 200\n",
    "NA_THRESHOLD = 0.975\n",
    "LABEL_COLUMN = 'StageName'"
   ]
  },
  {
   "cell_type": "markdown",
   "metadata": {},
   "source": [
    "#### Metrics"
   ]
  },
  {
   "cell_type": "code",
   "execution_count": 3,
   "metadata": {},
   "outputs": [],
   "source": [
    "#  Set up a scoring function that uses the f1 score metric\n",
    "from sklearn.metrics import f1_score, make_scorer\n",
    "f1_scorer = make_scorer(f1_score)"
   ]
  },
  {
   "cell_type": "markdown",
   "metadata": {},
   "source": [
    "#### Dummy Classifier"
   ]
  },
  {
   "cell_type": "code",
   "execution_count": 4,
   "metadata": {},
   "outputs": [],
   "source": [
    "#  Set up the dummy classifier\n",
    "from sklearn.dummy import DummyClassifier\n",
    "dclf = DummyClassifier(random_state=DCLF_RANDOM_SEED)"
   ]
  },
  {
   "cell_type": "markdown",
   "metadata": {},
   "source": [
    "#### Benchmark"
   ]
  },
  {
   "cell_type": "code",
   "execution_count": 9,
   "metadata": {},
   "outputs": [
    {
     "data": {
      "text/plain": [
       "'Mean f1_score from KFold cross validation 0.73'"
      ]
     },
     "metadata": {},
     "output_type": "display_data"
    }
   ],
   "source": [
    "# First up, load the raw dataset\n",
    "raw_data = pd.read_csv('data/csv/DataStore_query-1536516138031.json.csv', low_memory=False)\n",
    "\n",
    "# Drop rows with labels that are not relevant and separate features from labels\n",
    "data = utils.drop_rows(raw_data)\n",
    "labels = utils.get_labels(data, label_column=LABEL_COLUMN)\n",
    "features = data.drop(columns=[LABEL_COLUMN], axis=1)\n",
    "features = utils.drop_na_columns(features, label_column=LABEL_COLUMN, na_threshold=NA_THRESHOLD)\n",
    "\n",
    "# Columns that are deemed to be of no worth or are direct proxies for the label columns\n",
    "cols_to_remove = [\n",
    "    'Labels',\n",
    "    'Name',\n",
    "    'CreatedDate',\n",
    "    'CloseDate',\n",
    "    'Probability',\n",
    "    'AccountId',\n",
    "    'ACV__c',\n",
    "    'CreatedById',\n",
    "    'Created_Date_30_day_lookback__c',\n",
    "    'CurrencyIsoCode',\n",
    "    'DM_Close_Type__c',\n",
    "    'DM_Won_Amount__c',\n",
    "    'ExpectedRevenue',\n",
    "    'forecast__c',\n",
    "    'ForecastCategory',\n",
    "    'ForecastCategoryName',\n",
    "    'Id',\n",
    "    'LastModifiedById',\n",
    "    'mkto_si__MarketoAnalyzer__c',\n",
    "    'Opportunity_ID_18_digit__c',\n",
    "    'Opportunity_Owner_ID_18_digit__c',\n",
    "    'Original_Quote__c',\n",
    "    'OwnerId',\n",
    "    'Pricebook2Id',\n",
    "    'RecordTypeId',\n",
    "    'Renewal_Forecast_Amount__c',\n",
    "    'Stage__c',\n",
    "    'Stage_Choices__c',\n",
    "    'Strategy_Choices__c',\n",
    "    'Id.1',\n",
    "    'Metric_Price2Close__c',\n",
    "    'IsWon'\n",
    "]\n",
    "\n",
    "features = features.drop(columns=cols_to_remove, axis=1)\n",
    "features = utils.encode(features)\n",
    "\n",
    "# One hot encode categorical features\n",
    "features = utils.encode(features)\n",
    "\n",
    "# Train test split\n",
    "X_train, X_test, y_train, y_test = utils.data_split(features, labels, random_state=SPLIT_RANDOM_SEED)\n",
    "\n",
    "# Feature scaling\n",
    "from sklearn.preprocessing import MaxAbsScaler\n",
    "\n",
    "max_abs_scaler = MaxAbsScaler()\n",
    "X_train = max_abs_scaler.fit_transform(X_train)\n",
    "X_test = max_abs_scaler.fit_transform(X_test)\n",
    "\n",
    "# Feature selection\n",
    "X_train = utils.feature_selection(X_train, y_train, K_FEATURES)\n",
    "\n",
    "# Score the dummy classifier\n",
    "from sklearn import model_selection\n",
    "kfold = model_selection.KFold(n_splits=K_FOLDS, random_state=K_FOLD_RANDOM_SEED)\n",
    "cv_results = model_selection.cross_val_score(dclf, X_train, y_train, cv=kfold, scoring=f1_scorer)\n",
    "display('Mean f1_score from KFold cross validation {:0.2f}'.format(cv_results.mean()))"
   ]
  },
  {
   "cell_type": "markdown",
   "metadata": {},
   "source": [
    "The DummyClassifier achieves an average of **f1 score** 73%. This establishes a baseline for assessing the success of the final modal. Given the dataset, a guess could be expected to be accurate in 73% of predictions. In order to demonstrate that the final model built in the project is better than a guess, it must a achieve a better average f1 score than 73%."
   ]
  },
  {
   "cell_type": "markdown",
   "metadata": {},
   "source": [
    "## 3. Methodolgy"
   ]
  },
  {
   "cell_type": "markdown",
   "metadata": {},
   "source": [
    "### Data Preprocessing"
   ]
  },
  {
   "cell_type": "markdown",
   "metadata": {},
   "source": [
    "In this section, all of your preprocessing steps will need to be clearly documented, if any were necessary. From the previous section, any of the abnormalities or characteristics that you identified about the dataset will be addressed and corrected here. Questions to ask yourself when writing this section:\n",
    "- _If the algorithms chosen require preprocessing steps like feature selection or feature transformations, have they been properly documented?_\n",
    "- _Based on the **Data Exploration** section, if there were abnormalities or characteristics that needed to be addressed, have they been properly corrected?_\n",
    "- _If no preprocessing is needed, has it been made clear why?_\n"
   ]
  },
  {
   "cell_type": "markdown",
   "metadata": {},
   "source": [
    "A number of preprocessing steps will be required in order to ready the data for use in training a model. These steps are as follows:\n",
    "\n",
    "* Load the raw dataset\n",
    "* Filter the samples down to only those that include the labels that are useful for purposes here: `Closed won` and `Closed lost`\n",
    "* Separate the labels column from the features and encode them\n",
    "* Drop columns that have too many rows without a value and backfill the remain the columns\n",
    "* Make a visual inspection of the remaining columns\n",
    "* Drop a number of columns by name that are known to be of no use or are a direct proxy for the label column\n",
    "* Make a list of the categorical features in the dataset and One Hot Encode them\n",
    "* Write the processed dataset to CSV and make a final inspection"
   ]
  },
  {
   "cell_type": "code",
   "execution_count": 2,
   "metadata": {},
   "outputs": [],
   "source": [
    "# Let's load up our std libraries and start having some fun\n",
    "\n",
    "import pandas as pd\n",
    "import matplotlib\n",
    "import numpy as np\n",
    "import matplotlib.pyplot as plt\n",
    "import utils\n",
    "%matplotlib inline\n",
    "\n",
    "# Set up some necessary constants\n",
    "SPLIT_RANDOM_SEED = 42\n",
    "K_FOLD_RANDOM_SEED = 3\n",
    "K_FOLDS = 5\n",
    "K_FEATURES = 200\n",
    "NA_THRESHOLD = 0.975\n",
    "LABEL_COLUMN = 'StageName'"
   ]
  },
  {
   "cell_type": "markdown",
   "metadata": {},
   "source": [
    "#### Load the raw dataset"
   ]
  },
  {
   "cell_type": "code",
   "execution_count": 6,
   "metadata": {},
   "outputs": [
    {
     "data": {
      "text/plain": [
       "(5809, 471)"
      ]
     },
     "metadata": {},
     "output_type": "display_data"
    }
   ],
   "source": [
    "# First up, load the raw dataset\n",
    "raw_data = pd.read_csv('data/csv/DataStore_query-1536516138031.json.csv', low_memory=False)\n",
    "display(raw_data.shape)"
   ]
  },
  {
   "cell_type": "markdown",
   "metadata": {},
   "source": [
    "#### Filter the samples down to only those that include the labels that are useful for purposes here: `Closed won` and `Closed lost`"
   ]
  },
  {
   "cell_type": "code",
   "execution_count": 7,
   "metadata": {},
   "outputs": [
    {
     "data": {
      "text/plain": [
       "(1519, 471)"
      ]
     },
     "metadata": {},
     "output_type": "display_data"
    }
   ],
   "source": [
    "data = utils.drop_rows(raw_data)\n",
    "display(data.shape)"
   ]
  },
  {
   "cell_type": "markdown",
   "metadata": {},
   "source": [
    "#### Separate the labels column from the features and encode them"
   ]
  },
  {
   "cell_type": "code",
   "execution_count": 8,
   "metadata": {},
   "outputs": [
    {
     "data": {
      "text/plain": [
       "(1519, 470)"
      ]
     },
     "metadata": {},
     "output_type": "display_data"
    },
    {
     "data": {
      "text/plain": [
       "(1519,)"
      ]
     },
     "metadata": {},
     "output_type": "display_data"
    }
   ],
   "source": [
    "labels = utils.get_labels(data, label_column=LABEL_COLUMN)\n",
    "features = data.drop(columns=[LABEL_COLUMN], axis=1)\n",
    "display(features.shape)\n",
    "display(labels.shape)"
   ]
  },
  {
   "cell_type": "markdown",
   "metadata": {},
   "source": [
    "#### Drop columns that have too many rows without a value and backfill the remain the columns"
   ]
  },
  {
   "cell_type": "code",
   "execution_count": 9,
   "metadata": {},
   "outputs": [
    {
     "data": {
      "text/plain": [
       "(1519, 132)"
      ]
     },
     "metadata": {},
     "output_type": "display_data"
    }
   ],
   "source": [
    "features = utils.drop_na_columns(features, label_column=LABEL_COLUMN, na_threshold=NA_THRESHOLD)\n",
    "display(features.shape)"
   ]
  },
  {
   "cell_type": "markdown",
   "metadata": {},
   "source": [
    "#### Make a visual inspection of the remaining columns"
   ]
  },
  {
   "cell_type": "code",
   "execution_count": 10,
   "metadata": {},
   "outputs": [],
   "source": [
    "data = features\n",
    "data['labels'] = labels\n",
    "data.to_csv('data/csv/preview_data.csv', index=False)"
   ]
  },
  {
   "cell_type": "code",
   "execution_count": 11,
   "metadata": {},
   "outputs": [
    {
     "data": {
      "text/plain": [
       "(1519, 101)"
      ]
     },
     "metadata": {},
     "output_type": "display_data"
    }
   ],
   "source": [
    "# Columns that are deemed to be of no worth or are direct proxies for the label columns\n",
    "cols_to_remove = [\n",
    "    'Labels',\n",
    "    'Name',\n",
    "    'CreatedDate',\n",
    "    'CloseDate',\n",
    "    'Probability',\n",
    "    'AccountId',\n",
    "    'ACV__c',\n",
    "    'CreatedById',\n",
    "    'Created_Date_30_day_lookback__c',\n",
    "    'CurrencyIsoCode',\n",
    "    'DM_Close_Type__c',\n",
    "    'DM_Won_Amount__c',\n",
    "    'ExpectedRevenue',\n",
    "    'forecast__c',\n",
    "    'ForecastCategory',\n",
    "    'ForecastCategoryName',\n",
    "    'Id',\n",
    "    'LastModifiedById',\n",
    "    'mkto_si__MarketoAnalyzer__c',\n",
    "    'Opportunity_ID_18_digit__c',\n",
    "    'Opportunity_Owner_ID_18_digit__c',\n",
    "    'Original_Quote__c',\n",
    "    'OwnerId',\n",
    "    'Pricebook2Id',\n",
    "    'RecordTypeId',\n",
    "    'Renewal_Forecast_Amount__c',\n",
    "    'Stage__c',\n",
    "    'Stage_Choices__c',\n",
    "    'Strategy_Choices__c',\n",
    "    'Id.1',\n",
    "    'Metric_Price2Close__c',\n",
    "    'IsWon'\n",
    "]\n",
    "\n",
    "features = features.drop(columns=cols_to_remove, axis=1)\n",
    "display(features.shape)"
   ]
  },
  {
   "cell_type": "markdown",
   "metadata": {},
   "source": [
    "#### Make a list of the categorical features in the dataset and One Hot Encode them"
   ]
  },
  {
   "cell_type": "code",
   "execution_count": 12,
   "metadata": {},
   "outputs": [
    {
     "data": {
      "text/plain": [
       "(1519, 2846)"
      ]
     },
     "metadata": {},
     "output_type": "display_data"
    }
   ],
   "source": [
    "features = utils.encode(features)\n",
    "display(features.shape)"
   ]
  },
  {
   "cell_type": "markdown",
   "metadata": {},
   "source": [
    "#### Write the processed dataset to CSV"
   ]
  },
  {
   "cell_type": "code",
   "execution_count": 13,
   "metadata": {},
   "outputs": [],
   "source": [
    "data = features\n",
    "data['labels'] = labels\n",
    "data.to_csv('data/csv/processed_data.csv', index=False)"
   ]
  },
  {
   "cell_type": "markdown",
   "metadata": {},
   "source": [
    "With the features encoded, the number of columns swells up to 2,846. This is likely too many and so a feature selection stage will be important during implementation."
   ]
  },
  {
   "cell_type": "markdown",
   "metadata": {},
   "source": [
    "### Implementation"
   ]
  },
  {
   "cell_type": "markdown",
   "metadata": {},
   "source": [
    "In this section, the process for which metrics, algorithms, and techniques that you implemented for the given data will need to be clearly documented. It should be abundantly clear how the implementation was carried out, and discussion should be made regarding any complications that occurred during this process. Questions to ask yourself when writing this section:\n",
    "- _Is it made clear how the algorithms and techniques were implemented with the given datasets or input data?_\n",
    "- _Were there any complications with the original metrics or techniques that required changing prior to acquiring a solution?_\n",
    "- _Was there any part of the coding process (e.g., writing complicated functions) that should be documented?_\n"
   ]
  },
  {
   "cell_type": "markdown",
   "metadata": {},
   "source": [
    "#### Data loading"
   ]
  },
  {
   "cell_type": "code",
   "execution_count": 1,
   "metadata": {},
   "outputs": [],
   "source": [
    "# Let's load up our std libraries and start having some fun\n",
    "\n",
    "import pandas as pd\n",
    "import matplotlib\n",
    "import numpy as np\n",
    "import matplotlib.pyplot as plt\n",
    "import utils\n",
    "%matplotlib inline\n",
    "\n",
    "# Set up some necessary constants\n",
    "SPLIT_RANDOM_SEED = 42\n",
    "K_FOLD_RANDOM_SEED = 3\n",
    "K_FOLDS = 5\n",
    "K_FEATURES = 200\n",
    "NA_THRESHOLD = 0.975\n",
    "LABEL_COLUMN = 'StageName'"
   ]
  },
  {
   "cell_type": "code",
   "execution_count": 2,
   "metadata": {},
   "outputs": [
    {
     "data": {
      "text/plain": [
       "(5809, 471)"
      ]
     },
     "metadata": {},
     "output_type": "display_data"
    }
   ],
   "source": [
    "# First up, load the raw dataset\n",
    "raw_data = pd.read_csv('data/csv/DataStore_query-1536516138031.json.csv', low_memory=False)\n",
    "display(raw_data.shape)"
   ]
  },
  {
   "cell_type": "markdown",
   "metadata": {},
   "source": [
    "#### Pre-processing"
   ]
  },
  {
   "cell_type": "code",
   "execution_count": 3,
   "metadata": {},
   "outputs": [
    {
     "data": {
      "text/plain": [
       "(1519, 471)"
      ]
     },
     "metadata": {},
     "output_type": "display_data"
    },
    {
     "data": {
      "text/plain": [
       "(1519, 470)"
      ]
     },
     "metadata": {},
     "output_type": "display_data"
    },
    {
     "data": {
      "text/plain": [
       "(1519,)"
      ]
     },
     "metadata": {},
     "output_type": "display_data"
    },
    {
     "data": {
      "text/plain": [
       "(1519, 132)"
      ]
     },
     "metadata": {},
     "output_type": "display_data"
    },
    {
     "data": {
      "text/plain": [
       "(1519, 100)"
      ]
     },
     "metadata": {},
     "output_type": "display_data"
    },
    {
     "data": {
      "text/plain": [
       "(1519, 2845)"
      ]
     },
     "metadata": {},
     "output_type": "display_data"
    }
   ],
   "source": [
    "data = utils.drop_rows(raw_data)\n",
    "display(data.shape)\n",
    "labels = utils.get_labels(data, label_column=LABEL_COLUMN)\n",
    "features = data.drop(columns=[LABEL_COLUMN], axis=1)\n",
    "display(features.shape)\n",
    "display(labels.shape)\n",
    "features = utils.drop_na_columns(features, label_column=LABEL_COLUMN, na_threshold=NA_THRESHOLD)\n",
    "display(features.shape)\n",
    "# Columns that are deemed to be of no worth or are direct proxies for the label columns\n",
    "cols_to_remove = [\n",
    "    'Labels',\n",
    "    'Name',\n",
    "    'CreatedDate',\n",
    "    'CloseDate',\n",
    "    'Probability',\n",
    "    'AccountId',\n",
    "    'ACV__c',\n",
    "    'CreatedById',\n",
    "    'Created_Date_30_day_lookback__c',\n",
    "    'CurrencyIsoCode',\n",
    "    'DM_Close_Type__c',\n",
    "    'DM_Won_Amount__c',\n",
    "    'ExpectedRevenue',\n",
    "    'forecast__c',\n",
    "    'ForecastCategory',\n",
    "    'ForecastCategoryName',\n",
    "    'Id',\n",
    "    'LastModifiedById',\n",
    "    'mkto_si__MarketoAnalyzer__c',\n",
    "    'Opportunity_ID_18_digit__c',\n",
    "    'Opportunity_Owner_ID_18_digit__c',\n",
    "    'Original_Quote__c',\n",
    "    'OwnerId',\n",
    "    'Pricebook2Id',\n",
    "    'RecordTypeId',\n",
    "    'Renewal_Forecast_Amount__c',\n",
    "    'Stage__c',\n",
    "    'Stage_Choices__c',\n",
    "    'Strategy_Choices__c',\n",
    "    'Id.1',\n",
    "    'Metric_Price2Close__c',\n",
    "    'IsWon'\n",
    "]\n",
    "\n",
    "features = features.drop(columns=cols_to_remove, axis=1)\n",
    "display(features.shape)\n",
    "features = utils.encode(features)\n",
    "display(features.shape)"
   ]
  },
  {
   "cell_type": "markdown",
   "metadata": {},
   "source": [
    "#### Train / Test Split"
   ]
  },
  {
   "cell_type": "code",
   "execution_count": 4,
   "metadata": {},
   "outputs": [],
   "source": [
    "X_train, X_test, y_train, y_test = utils.data_split(features, labels, random_state=SPLIT_RANDOM_SEED)"
   ]
  },
  {
   "cell_type": "markdown",
   "metadata": {},
   "source": [
    "#### Scaling"
   ]
  },
  {
   "cell_type": "code",
   "execution_count": 5,
   "metadata": {},
   "outputs": [],
   "source": [
    "from sklearn.preprocessing import MaxAbsScaler\n",
    "\n",
    "max_abs_scaler = MaxAbsScaler()\n",
    "X_train = max_abs_scaler.fit_transform(X_train)\n",
    "X_test = max_abs_scaler.fit_transform(X_test)"
   ]
  },
  {
   "cell_type": "markdown",
   "metadata": {},
   "source": [
    "#### Feature selection"
   ]
  },
  {
   "cell_type": "code",
   "execution_count": 6,
   "metadata": {},
   "outputs": [
    {
     "data": {
      "text/plain": [
       "(1215, 200)"
      ]
     },
     "metadata": {},
     "output_type": "display_data"
    }
   ],
   "source": [
    "X_train = utils.feature_selection(X_train, y_train, K_FEATURES)\n",
    "display(X_train.shape)"
   ]
  },
  {
   "cell_type": "markdown",
   "metadata": {},
   "source": [
    "#### Metrics"
   ]
  },
  {
   "cell_type": "code",
   "execution_count": 7,
   "metadata": {},
   "outputs": [],
   "source": [
    "#  Set up a scoring function that uses the f1 score metric\n",
    "from sklearn.metrics import f1_score, make_scorer\n",
    "f1_scorer = make_scorer(f1_score)"
   ]
  },
  {
   "cell_type": "markdown",
   "metadata": {},
   "source": [
    "#### Model selection"
   ]
  },
  {
   "cell_type": "code",
   "execution_count": 8,
   "metadata": {},
   "outputs": [
    {
     "name": "stderr",
     "output_type": "stream",
     "text": [
      "/usr/local/lib/python3.6/site-packages/lightgbm/__init__.py:46: UserWarning: Starting from version 2.2.1, the library file in distribution wheels for macOS is built by the Apple Clang (Xcode_9.4.1) compiler.\n",
      "This means that in case of installing LightGBM from PyPI via the ``pip install lightgbm`` command, you don't need to install the gcc compiler anymore.\n",
      "Instead of that, you need to install the OpenMP library, which is required for running LightGBM on the system with the Apple Clang compiler.\n",
      "You can install the OpenMP library by the following command: ``brew install libomp``.\n",
      "  \"You can install the OpenMP library by the following command: ``brew install libomp``.\", UserWarning)\n"
     ]
    },
    {
     "name": "stdout",
     "output_type": "stream",
     "text": [
      "LR: 0.939213 (0.007617)\n",
      "NB: 0.949712 (0.013622)\n",
      "KNN: 0.937568 (0.016594)\n",
      "SVM: 0.931523 (0.009736)\n",
      "RF: 0.970345 (0.010177)\n",
      "LGBM: 0.995092 (0.001845)\n",
      "XGB: 0.995685 (0.003186)\n"
     ]
    },
    {
     "data": {
      "image/png": "[encoded data removed]",
      "text/plain": [
       "<matplotlib.figure.Figure at 0x10f051c50>"
      ]
     },
     "metadata": {},
     "output_type": "display_data"
    }
   ],
   "source": [
    "# Importing libraries\n",
    "from sklearn import model_selection\n",
    "from sklearn.linear_model import LogisticRegression\n",
    "from sklearn.tree import DecisionTreeClassifier\n",
    "from sklearn.neighbors import KNeighborsClassifier\n",
    "from sklearn.discriminant_analysis import LinearDiscriminantAnalysis\n",
    "from sklearn.naive_bayes import GaussianNB\n",
    "from sklearn.svm import SVC\n",
    "from sklearn.ensemble import RandomForestClassifier\n",
    "import lightgbm as lgb\n",
    "import xgboost as xgb\n",
    "import warnings\n",
    "warnings.filterwarnings('ignore')\n",
    "\n",
    "# Preparing models\n",
    "models = []\n",
    "models.append(('LR', LogisticRegression()))\n",
    "models.append(('NB', GaussianNB()))\n",
    "models.append(('KNN', KNeighborsClassifier()))\n",
    "models.append(('SVM', SVC()))\n",
    "models.append(('RF', RandomForestClassifier()))\n",
    "models.append(('LGBM', lgb.sklearn.LGBMClassifier()))\n",
    "models.append(('XGB', xgb.XGBClassifier()))\n",
    "\n",
    "# Model Evaluation\n",
    "results = []\n",
    "names = []\n",
    "\n",
    "for name, model in models:\n",
    "    kfold = model_selection.KFold(n_splits=K_FOLDS, random_state=K_FOLD_RANDOM_SEED)\n",
    "    cv_results = model_selection.cross_val_score(model, X_train, y_train, cv=kfold, scoring=f1_scorer)\n",
    "    results.append(cv_results)\n",
    "    names.append(name)\n",
    "    msg = \"%s: %f (%f)\" % (name, cv_results.mean(), cv_results.std())\n",
    "    print(msg)\n",
    "\n",
    "# Boxplot to compare algorithms\n",
    "fig = plt.figure()\n",
    "fig.suptitle('Comparison of Classification Algorithms')\n",
    "ax = fig.add_subplot(111)\n",
    "plt.boxplot(results)\n",
    "ax.set_xticklabels(names)\n",
    "plt.show()"
   ]
  },
  {
   "cell_type": "markdown",
   "metadata": {},
   "source": [
    "### Refinement"
   ]
  },
  {
   "cell_type": "markdown",
   "metadata": {},
   "source": [
    "In this section, you will need to discuss the process of improvement you made upon the algorithms and techniques you used in your implementation. For example, adjusting parameters for certain models to acquire improved solutions would fall under the refinement category. Your initial and final solutions should be reported, as well as any significant intermediate results as necessary. Questions to ask yourself when writing this section:\n",
    "- _Has an initial solution been found and clearly reported?_\n",
    "- _Is the process of improvement clearly documented, such as what techniques were used?_\n",
    "- _Are intermediate and final solutions clearly reported as the process is improved?_\n"
   ]
  },
  {
   "cell_type": "markdown",
   "metadata": {},
   "source": [
    "#### Hyper Parameter Grid Search"
   ]
  },
  {
   "cell_type": "code",
   "execution_count": null,
   "metadata": {},
   "outputs": [],
   "source": []
  },
  {
   "cell_type": "markdown",
   "metadata": {},
   "source": [
    "## 4. Results"
   ]
  },
  {
   "cell_type": "markdown",
   "metadata": {},
   "source": [
    "### Model Evaluation and Validation"
   ]
  },
  {
   "cell_type": "markdown",
   "metadata": {},
   "source": [
    "In this section, the final model and any supporting qualities should be evaluated in detail. It should be clear how the final model was derived and why this model was chosen. In addition, some type of analysis should be used to validate the robustness of this model and its solution, such as manipulating the input data or environment to see how the model’s solution is affected (this is called sensitivity analysis). Questions to ask yourself when writing this section:\n",
    "- _Is the final model reasonable and aligning with solution expectations? Are the final parameters of the model appropriate?_\n",
    "- _Has the final model been tested with various inputs to evaluate whether the model generalizes well to unseen data?_\n",
    "- _Is the model robust enough for the problem? Do small perturbations (changes) in training data or the input space greatly affect the results?_\n",
    "- _Can results found from the model be trusted?_\n"
   ]
  },
  {
   "cell_type": "code",
   "execution_count": null,
   "metadata": {},
   "outputs": [],
   "source": []
  },
  {
   "cell_type": "markdown",
   "metadata": {},
   "source": [
    "### Jusitifcation"
   ]
  },
  {
   "cell_type": "markdown",
   "metadata": {},
   "source": [
    "In this section, your model’s final solution and its results should be compared to the benchmark you established earlier in the project using some type of statistical analysis. You should also justify whether these results and the solution are significant enough to have solved the problem posed in the project. Questions to ask yourself when writing this section:\n",
    "- _Are the final results found stronger than the benchmark result reported earlier?_\n",
    "- _Have you thoroughly analyzed and discussed the final solution?_\n",
    "- _Is the final solution significant enough to have solved the problem?_\n"
   ]
  },
  {
   "cell_type": "code",
   "execution_count": null,
   "metadata": {},
   "outputs": [],
   "source": []
  },
  {
   "cell_type": "markdown",
   "metadata": {},
   "source": [
    "## 5. Conclusion"
   ]
  },
  {
   "cell_type": "markdown",
   "metadata": {},
   "source": [
    "### Free-Form Visualization"
   ]
  },
  {
   "cell_type": "markdown",
   "metadata": {},
   "source": [
    "In this section, you will need to provide some form of visualization that emphasizes an important quality about the project. It is much more free-form, but should reasonably support a significant result or characteristic about the problem that you want to discuss. Questions to ask yourself when writing this section:\n",
    "- _Have you visualized a relevant or important quality about the problem, dataset, input data, or results?_\n",
    "- _Is the visualization thoroughly analyzed and discussed?_\n",
    "- _If a plot is provided, are the axes, title, and datum clearly defined?_\n"
   ]
  },
  {
   "cell_type": "code",
   "execution_count": null,
   "metadata": {},
   "outputs": [],
   "source": []
  },
  {
   "cell_type": "markdown",
   "metadata": {},
   "source": [
    "### Reflection"
   ]
  },
  {
   "cell_type": "markdown",
   "metadata": {},
   "source": [
    "In this section, you will summarize the entire end-to-end problem solution and discuss one or two particular aspects of the project you found interesting or difficult. You are expected to reflect on the project as a whole to show that you have a firm understanding of the entire process employed in your work. Questions to ask yourself when writing this section:\n",
    "- _Have you thoroughly summarized the entire process you used for this project?_\n",
    "- _Were there any interesting aspects of the project?_\n",
    "- _Were there any difficult aspects of the project?_\n",
    "- _Does the final model and solution fit your expectations for the problem, and should it be used in a general setting to solve these types of problems?_\n"
   ]
  },
  {
   "cell_type": "code",
   "execution_count": null,
   "metadata": {},
   "outputs": [],
   "source": []
  },
  {
   "cell_type": "markdown",
   "metadata": {},
   "source": [
    "### Improvement"
   ]
  },
  {
   "cell_type": "markdown",
   "metadata": {},
   "source": [
    "In this section, you will need to provide discussion as to how one aspect of the implementation you designed could be improved. As an example, consider ways your implementation can be made more general, and what would need to be modified. You do not need to make this improvement, but the potential solutions resulting from these changes are considered and compared/contrasted to your current solution. Questions to ask yourself when writing this section:\n",
    "- _Are there further improvements that could be made on the algorithms or techniques you used in this project?_\n",
    "- _Were there algorithms or techniques you researched that you did not know how to implement, but would consider using if you knew how?_\n",
    "- _If you used your final solution as the new benchmark, do you think an even better solution exists?_\n"
   ]
  },
  {
   "cell_type": "code",
   "execution_count": null,
   "metadata": {},
   "outputs": [],
   "source": []
  },
  {
   "cell_type": "markdown",
   "metadata": {},
   "source": [
    "--------------------------------------------------------------------------\n",
    "\n",
    "**Before submitting, ask yourself. . .**\n",
    "\n",
    "- Does the project report you’ve written follow a well-organized structure similar to that of the project template?\n",
    "- Is each section (particularly **Analysis** and **Methodology**) written in a clear, concise and specific fashion? Are there any ambiguous terms or phrases that need clarification?\n",
    "- Would the intended audience of your project be able to understand your analysis, methods, and results?\n",
    "- Have you properly proof-read your project report to assure there are minimal grammatical and spelling mistakes?\n",
    "- Are all the resources used for this project correctly cited and referenced?\n",
    "- Is the code that implements your solution easily readable and properly commented?\n",
    "- Does the code execute without error and produce results similar to those reported?\n"
   ]
  }
 ],
 "metadata": {
  "kernelspec": {
   "display_name": "Python 3",
   "language": "python",
   "name": "python3"
  },
  "language_info": {
   "codemirror_mode": {
    "name": "ipython",
    "version": 3
   },
   "file_extension": ".py",
   "mimetype": "text/x-python",
   "name": "python",
   "nbconvert_exporter": "python",
   "pygments_lexer": "ipython3",
   "version": "3.6.5"
  }
 },
 "nbformat": 4,
 "nbformat_minor": 2
}
